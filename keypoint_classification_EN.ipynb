{
  "cells": [
    {
      "cell_type": "code",
      "execution_count": 55,
      "metadata": {},
      "outputs": [],
      "source": [
        "import csv\n",
        "\n",
        "import numpy as np\n",
        "import tensorflow as tf\n",
        "from sklearn.model_selection import train_test_split\n",
        "\n",
        "RANDOM_SEED = 42"
      ]
    },
    {
      "cell_type": "markdown",
      "metadata": {
        "id": "t2HDvhIu9hEr"
      },
      "source": [
        "# Specify each path"
      ]
    },
    {
      "cell_type": "code",
      "execution_count": 25,
      "metadata": {
        "id": "9NvZP2Zn9hEy"
      },
      "outputs": [],
      "source": [
        "dataset = 'model/keypoint_classifier/keypoint.csv'\n",
        "model_save_path = 'model/keypoint_classifier/keypoint_classifier.hdf5'\n",
        "tflite_save_path = 'model/keypoint_classifier/keypoint_classifier.tflite'"
      ]
    },
    {
      "cell_type": "markdown",
      "metadata": {
        "id": "s5oMH7x19hEz"
      },
      "source": [
        "# Set number of classes"
      ]
    },
    {
      "cell_type": "code",
      "execution_count": 26,
      "metadata": {
        "id": "du4kodXL9hEz"
      },
      "outputs": [],
      "source": [
        "NUM_CLASSES = 4"
      ]
    },
    {
      "cell_type": "markdown",
      "metadata": {
        "id": "XjnL0uso9hEz"
      },
      "source": [
        "# Dataset reading"
      ]
    },
    {
      "cell_type": "code",
      "execution_count": 27,
      "metadata": {
        "id": "QT5ZqtEz9hE0"
      },
      "outputs": [],
      "source": [
        "X_dataset = np.loadtxt(dataset, delimiter=',', dtype='float32', usecols=list(range(1, (21 * 2) + 1)))"
      ]
    },
    {
      "cell_type": "code",
      "execution_count": 28,
      "metadata": {
        "id": "QmoKFsp49hE0"
      },
      "outputs": [],
      "source": [
        "y_dataset = np.loadtxt(dataset, delimiter=',', dtype='int32', usecols=(0))"
      ]
    },
    {
      "cell_type": "code",
      "execution_count": 29,
      "metadata": {
        "id": "xQU7JTZ_9hE0"
      },
      "outputs": [],
      "source": [
        "X_train, X_test, y_train, y_test = train_test_split(X_dataset, y_dataset, train_size=0.75, random_state=RANDOM_SEED)"
      ]
    },
    {
      "cell_type": "markdown",
      "metadata": {
        "id": "mxK_lETT9hE0"
      },
      "source": [
        "# Model building"
      ]
    },
    {
      "cell_type": "code",
      "execution_count": 30,
      "metadata": {
        "id": "vHBmUf1t9hE1"
      },
      "outputs": [],
      "source": [
        "model = tf.keras.models.Sequential([\n",
        "    tf.keras.layers.Input((21 * 2, )),\n",
        "    tf.keras.layers.Dropout(0.2),\n",
        "    tf.keras.layers.Dense(20, activation='relu'),\n",
        "    tf.keras.layers.Dropout(0.4),\n",
        "    tf.keras.layers.Dense(10, activation='relu'),\n",
        "    tf.keras.layers.Dense(NUM_CLASSES, activation='softmax')\n",
        "])"
      ]
    },
    {
      "cell_type": "code",
      "execution_count": 31,
      "metadata": {
        "colab": {
          "base_uri": "https://localhost:8080/"
        },
        "id": "ypqky9tc9hE1",
        "outputId": "5db082bb-30e3-4110-bf63-a1ee777ecd46"
      },
      "outputs": [
        {
          "name": "stdout",
          "output_type": "stream",
          "text": [
            "Model: \"sequential_1\"\n",
            "_________________________________________________________________\n",
            " Layer (type)                Output Shape              Param #   \n",
            "=================================================================\n",
            " dropout_2 (Dropout)         (None, 42)                0         \n",
            "                                                                 \n",
            " dense_3 (Dense)             (None, 20)                860       \n",
            "                                                                 \n",
            " dropout_3 (Dropout)         (None, 20)                0         \n",
            "                                                                 \n",
            " dense_4 (Dense)             (None, 10)                210       \n",
            "                                                                 \n",
            " dense_5 (Dense)             (None, 4)                 44        \n",
            "                                                                 \n",
            "=================================================================\n",
            "Total params: 1114 (4.35 KB)\n",
            "Trainable params: 1114 (4.35 KB)\n",
            "Non-trainable params: 0 (0.00 Byte)\n",
            "_________________________________________________________________\n"
          ]
        }
      ],
      "source": [
        "model.summary()  # tf.keras.utils.plot_model(model, show_shapes=True)"
      ]
    },
    {
      "cell_type": "code",
      "execution_count": 32,
      "metadata": {
        "id": "MbMjOflQ9hE1"
      },
      "outputs": [],
      "source": [
        "# Model checkpoint callback\n",
        "cp_callback = tf.keras.callbacks.ModelCheckpoint(\n",
        "    model_save_path, verbose=1, save_weights_only=False)\n",
        "# Callback for early stopping\n",
        "es_callback = tf.keras.callbacks.EarlyStopping(patience=20, verbose=1)"
      ]
    },
    {
      "cell_type": "code",
      "execution_count": 33,
      "metadata": {
        "id": "c3Dac0M_9hE2"
      },
      "outputs": [],
      "source": [
        "# Model compilation\n",
        "model.compile(\n",
        "    optimizer='adam',\n",
        "    loss='sparse_categorical_crossentropy',\n",
        "    metrics=['accuracy']\n",
        ")"
      ]
    },
    {
      "cell_type": "markdown",
      "metadata": {
        "id": "7XI0j1Iu9hE2"
      },
      "source": [
        "# Model training"
      ]
    },
    {
      "cell_type": "code",
      "execution_count": 34,
      "metadata": {
        "colab": {
          "base_uri": "https://localhost:8080/"
        },
        "id": "WirBl-JE9hE3",
        "outputId": "71b30ca2-8294-4d9d-8aa2-800d90d399de",
        "scrolled": true
      },
      "outputs": [
        {
          "name": "stdout",
          "output_type": "stream",
          "text": [
            "Epoch 1/1000\n",
            " 1/29 [>.............................] - ETA: 7s - loss: 1.3221 - accuracy: 0.3516\n",
            "Epoch 1: saving model to model/keypoint_classifier\\keypoint_classifier.hdf5\n",
            "29/29 [==============================] - 0s 4ms/step - loss: 1.2888 - accuracy: 0.3855 - val_loss: 1.1765 - val_accuracy: 0.4612\n",
            "Epoch 2/1000\n",
            " 1/29 [>.............................] - ETA: 0s - loss: 1.2436 - accuracy: 0.3828\n",
            "Epoch 2: saving model to model/keypoint_classifier\\keypoint_classifier.hdf5\n",
            "29/29 [==============================] - 0s 2ms/step - loss: 1.2060 - accuracy: 0.4320 - val_loss: 1.0905 - val_accuracy: 0.6015\n",
            "Epoch 3/1000\n",
            " 1/29 [>.............................] - ETA: 0s - loss: 1.2144 - accuracy: 0.4062\n",
            "Epoch 3: saving model to model/keypoint_classifier\\keypoint_classifier.hdf5\n",
            "29/29 [==============================] - 0s 2ms/step - loss: 1.1574 - accuracy: 0.4487 - val_loss: 1.0286 - val_accuracy: 0.6074\n",
            "Epoch 4/1000\n",
            " 1/29 [>.............................] - ETA: 0s - loss: 1.1566 - accuracy: 0.4531\n",
            "Epoch 4: saving model to model/keypoint_classifier\\keypoint_classifier.hdf5\n",
            "29/29 [==============================] - 0s 2ms/step - loss: 1.1151 - accuracy: 0.4783 - val_loss: 0.9735 - val_accuracy: 0.6165\n",
            "Epoch 5/1000\n",
            " 1/29 [>.............................] - ETA: 0s - loss: 1.1506 - accuracy: 0.4375\n",
            "Epoch 5: saving model to model/keypoint_classifier\\keypoint_classifier.hdf5\n"
          ]
        },
        {
          "name": "stderr",
          "output_type": "stream",
          "text": [
            "c:\\Users\\skevaki\\AppData\\Local\\anaconda3\\envs\\phd\\lib\\site-packages\\keras\\src\\engine\\training.py:3000: UserWarning: You are saving your model as an HDF5 file via `model.save()`. This file format is considered legacy. We recommend using instead the native Keras format, e.g. `model.save('my_model.keras')`.\n",
            "  saving_api.save_model(\n"
          ]
        },
        {
          "name": "stdout",
          "output_type": "stream",
          "text": [
            "29/29 [==============================] - 0s 2ms/step - loss: 1.0842 - accuracy: 0.4836 - val_loss: 0.9205 - val_accuracy: 0.6324\n",
            "Epoch 6/1000\n",
            " 1/29 [>.............................] - ETA: 0s - loss: 1.1363 - accuracy: 0.4062\n",
            "Epoch 6: saving model to model/keypoint_classifier\\keypoint_classifier.hdf5\n",
            "29/29 [==============================] - 0s 2ms/step - loss: 1.0454 - accuracy: 0.5070 - val_loss: 0.8750 - val_accuracy: 0.6600\n",
            "Epoch 7/1000\n",
            " 1/29 [>.............................] - ETA: 0s - loss: 1.0503 - accuracy: 0.4844\n",
            "Epoch 7: saving model to model/keypoint_classifier\\keypoint_classifier.hdf5\n",
            "29/29 [==============================] - 0s 2ms/step - loss: 1.0176 - accuracy: 0.5259 - val_loss: 0.8242 - val_accuracy: 0.6834\n",
            "Epoch 8/1000\n",
            " 1/29 [>.............................] - ETA: 0s - loss: 1.0195 - accuracy: 0.5156\n",
            "Epoch 8: saving model to model/keypoint_classifier\\keypoint_classifier.hdf5\n",
            "29/29 [==============================] - 0s 2ms/step - loss: 0.9890 - accuracy: 0.5365 - val_loss: 0.7886 - val_accuracy: 0.6884\n",
            "Epoch 9/1000\n",
            " 1/29 [>.............................] - ETA: 0s - loss: 0.9376 - accuracy: 0.5859\n",
            "Epoch 9: saving model to model/keypoint_classifier\\keypoint_classifier.hdf5\n",
            "29/29 [==============================] - 0s 2ms/step - loss: 0.9530 - accuracy: 0.5521 - val_loss: 0.7452 - val_accuracy: 0.7109\n",
            "Epoch 10/1000\n",
            " 1/29 [>.............................] - ETA: 0s - loss: 0.8852 - accuracy: 0.5859\n",
            "Epoch 10: saving model to model/keypoint_classifier\\keypoint_classifier.hdf5\n",
            "29/29 [==============================] - 0s 2ms/step - loss: 0.9190 - accuracy: 0.5733 - val_loss: 0.7071 - val_accuracy: 0.7469\n",
            "Epoch 11/1000\n",
            " 1/29 [>.............................] - ETA: 0s - loss: 0.8591 - accuracy: 0.5859\n",
            "Epoch 11: saving model to model/keypoint_classifier\\keypoint_classifier.hdf5\n",
            "29/29 [==============================] - 0s 2ms/step - loss: 0.8914 - accuracy: 0.5794 - val_loss: 0.6752 - val_accuracy: 0.7753\n",
            "Epoch 12/1000\n",
            " 1/29 [>.............................] - ETA: 0s - loss: 0.8498 - accuracy: 0.6484\n",
            "Epoch 12: saving model to model/keypoint_classifier\\keypoint_classifier.hdf5\n",
            "29/29 [==============================] - 0s 2ms/step - loss: 0.8706 - accuracy: 0.6067 - val_loss: 0.6488 - val_accuracy: 0.7878\n",
            "Epoch 13/1000\n",
            " 1/29 [>.............................] - ETA: 0s - loss: 0.8786 - accuracy: 0.5781\n",
            "Epoch 13: saving model to model/keypoint_classifier\\keypoint_classifier.hdf5\n",
            "29/29 [==============================] - 0s 2ms/step - loss: 0.8698 - accuracy: 0.6061 - val_loss: 0.6286 - val_accuracy: 0.7920\n",
            "Epoch 14/1000\n",
            " 1/29 [>.............................] - ETA: 0s - loss: 0.9943 - accuracy: 0.5391\n",
            "Epoch 14: saving model to model/keypoint_classifier\\keypoint_classifier.hdf5\n",
            "29/29 [==============================] - 0s 2ms/step - loss: 0.8595 - accuracy: 0.5994 - val_loss: 0.6087 - val_accuracy: 0.8137\n",
            "Epoch 15/1000\n",
            " 1/29 [>.............................] - ETA: 0s - loss: 0.8062 - accuracy: 0.6484\n",
            "Epoch 15: saving model to model/keypoint_classifier\\keypoint_classifier.hdf5\n",
            "29/29 [==============================] - 0s 2ms/step - loss: 0.8223 - accuracy: 0.6323 - val_loss: 0.5900 - val_accuracy: 0.8187\n",
            "Epoch 16/1000\n",
            " 1/29 [>.............................] - ETA: 0s - loss: 0.7201 - accuracy: 0.6875\n",
            "Epoch 16: saving model to model/keypoint_classifier\\keypoint_classifier.hdf5\n",
            "29/29 [==============================] - 0s 2ms/step - loss: 0.8116 - accuracy: 0.6231 - val_loss: 0.5769 - val_accuracy: 0.8229\n",
            "Epoch 17/1000\n",
            " 1/29 [>.............................] - ETA: 0s - loss: 0.7912 - accuracy: 0.6094\n",
            "Epoch 17: saving model to model/keypoint_classifier\\keypoint_classifier.hdf5\n",
            "29/29 [==============================] - 0s 2ms/step - loss: 0.8053 - accuracy: 0.6426 - val_loss: 0.5599 - val_accuracy: 0.8312\n",
            "Epoch 18/1000\n",
            " 1/29 [>.............................] - ETA: 0s - loss: 0.8079 - accuracy: 0.6016\n",
            "Epoch 18: saving model to model/keypoint_classifier\\keypoint_classifier.hdf5\n",
            "29/29 [==============================] - 0s 2ms/step - loss: 0.7951 - accuracy: 0.6560 - val_loss: 0.5465 - val_accuracy: 0.8463\n",
            "Epoch 19/1000\n",
            " 1/29 [>.............................] - ETA: 0s - loss: 0.7820 - accuracy: 0.6875\n",
            "Epoch 19: saving model to model/keypoint_classifier\\keypoint_classifier.hdf5\n",
            "29/29 [==============================] - 0s 2ms/step - loss: 0.7780 - accuracy: 0.6682 - val_loss: 0.5295 - val_accuracy: 0.8505\n",
            "Epoch 20/1000\n",
            " 1/29 [>.............................] - ETA: 0s - loss: 0.7494 - accuracy: 0.6719\n",
            "Epoch 20: saving model to model/keypoint_classifier\\keypoint_classifier.hdf5\n",
            "29/29 [==============================] - 0s 2ms/step - loss: 0.7760 - accuracy: 0.6632 - val_loss: 0.5204 - val_accuracy: 0.8463\n",
            "Epoch 21/1000\n",
            " 1/29 [>.............................] - ETA: 0s - loss: 0.7288 - accuracy: 0.6641\n",
            "Epoch 21: saving model to model/keypoint_classifier\\keypoint_classifier.hdf5\n",
            "29/29 [==============================] - 0s 2ms/step - loss: 0.7813 - accuracy: 0.6496 - val_loss: 0.5089 - val_accuracy: 0.8513\n",
            "Epoch 22/1000\n",
            " 1/29 [>.............................] - ETA: 0s - loss: 0.7597 - accuracy: 0.6719\n",
            "Epoch 22: saving model to model/keypoint_classifier\\keypoint_classifier.hdf5\n",
            "29/29 [==============================] - 0s 2ms/step - loss: 0.7653 - accuracy: 0.6599 - val_loss: 0.5029 - val_accuracy: 0.8596\n",
            "Epoch 23/1000\n",
            " 1/29 [>.............................] - ETA: 0s - loss: 0.7615 - accuracy: 0.6953\n",
            "Epoch 23: saving model to model/keypoint_classifier\\keypoint_classifier.hdf5\n",
            "29/29 [==============================] - 0s 2ms/step - loss: 0.7595 - accuracy: 0.6716 - val_loss: 0.4961 - val_accuracy: 0.8580\n",
            "Epoch 24/1000\n",
            " 1/29 [>.............................] - ETA: 0s - loss: 0.7701 - accuracy: 0.6953\n",
            "Epoch 24: saving model to model/keypoint_classifier\\keypoint_classifier.hdf5\n",
            "29/29 [==============================] - 0s 2ms/step - loss: 0.7252 - accuracy: 0.6889 - val_loss: 0.4791 - val_accuracy: 0.8722\n",
            "Epoch 25/1000\n",
            " 1/29 [>.............................] - ETA: 0s - loss: 0.7446 - accuracy: 0.6797\n",
            "Epoch 25: saving model to model/keypoint_classifier\\keypoint_classifier.hdf5\n",
            "29/29 [==============================] - 0s 2ms/step - loss: 0.7253 - accuracy: 0.6911 - val_loss: 0.4656 - val_accuracy: 0.8872\n",
            "Epoch 26/1000\n",
            " 1/29 [>.............................] - ETA: 0s - loss: 0.7594 - accuracy: 0.6953\n",
            "Epoch 26: saving model to model/keypoint_classifier\\keypoint_classifier.hdf5\n",
            "29/29 [==============================] - 0s 2ms/step - loss: 0.7327 - accuracy: 0.6900 - val_loss: 0.4561 - val_accuracy: 0.8730\n",
            "Epoch 27/1000\n",
            " 1/29 [>.............................] - ETA: 0s - loss: 0.7247 - accuracy: 0.6797\n",
            "Epoch 27: saving model to model/keypoint_classifier\\keypoint_classifier.hdf5\n",
            "29/29 [==============================] - 0s 2ms/step - loss: 0.7201 - accuracy: 0.6925 - val_loss: 0.4477 - val_accuracy: 0.8830\n",
            "Epoch 28/1000\n",
            " 1/29 [>.............................] - ETA: 0s - loss: 0.6744 - accuracy: 0.6953\n",
            "Epoch 28: saving model to model/keypoint_classifier\\keypoint_classifier.hdf5\n",
            "29/29 [==============================] - 0s 2ms/step - loss: 0.7037 - accuracy: 0.6975 - val_loss: 0.4366 - val_accuracy: 0.8889\n",
            "Epoch 29/1000\n",
            " 1/29 [>.............................] - ETA: 0s - loss: 0.5894 - accuracy: 0.7344\n",
            "Epoch 29: saving model to model/keypoint_classifier\\keypoint_classifier.hdf5\n",
            "29/29 [==============================] - 0s 2ms/step - loss: 0.6931 - accuracy: 0.7070 - val_loss: 0.4230 - val_accuracy: 0.8989\n",
            "Epoch 30/1000\n",
            " 1/29 [>.............................] - ETA: 0s - loss: 0.7412 - accuracy: 0.6719\n",
            "Epoch 30: saving model to model/keypoint_classifier\\keypoint_classifier.hdf5\n",
            "29/29 [==============================] - 0s 2ms/step - loss: 0.6961 - accuracy: 0.7100 - val_loss: 0.4191 - val_accuracy: 0.9023\n",
            "Epoch 31/1000\n",
            " 1/29 [>.............................] - ETA: 0s - loss: 0.5775 - accuracy: 0.7188\n",
            "Epoch 31: saving model to model/keypoint_classifier\\keypoint_classifier.hdf5\n",
            "29/29 [==============================] - 0s 2ms/step - loss: 0.6763 - accuracy: 0.7259 - val_loss: 0.4135 - val_accuracy: 0.9064\n",
            "Epoch 32/1000\n",
            " 1/29 [>.............................] - ETA: 0s - loss: 0.6868 - accuracy: 0.7266\n",
            "Epoch 32: saving model to model/keypoint_classifier\\keypoint_classifier.hdf5\n",
            "29/29 [==============================] - 0s 2ms/step - loss: 0.6856 - accuracy: 0.7167 - val_loss: 0.4035 - val_accuracy: 0.9031\n",
            "Epoch 33/1000\n",
            " 1/29 [>.............................] - ETA: 0s - loss: 0.7244 - accuracy: 0.7344\n",
            "Epoch 33: saving model to model/keypoint_classifier\\keypoint_classifier.hdf5\n",
            "29/29 [==============================] - 0s 2ms/step - loss: 0.6493 - accuracy: 0.7421 - val_loss: 0.3939 - val_accuracy: 0.9181\n",
            "Epoch 34/1000\n",
            " 1/29 [>.............................] - ETA: 0s - loss: 0.6457 - accuracy: 0.7188\n",
            "Epoch 34: saving model to model/keypoint_classifier\\keypoint_classifier.hdf5\n",
            "29/29 [==============================] - 0s 2ms/step - loss: 0.6601 - accuracy: 0.7323 - val_loss: 0.3786 - val_accuracy: 0.9181\n",
            "Epoch 35/1000\n",
            " 1/29 [>.............................] - ETA: 0s - loss: 0.6913 - accuracy: 0.7109\n",
            "Epoch 35: saving model to model/keypoint_classifier\\keypoint_classifier.hdf5\n",
            "29/29 [==============================] - 0s 2ms/step - loss: 0.6583 - accuracy: 0.7242 - val_loss: 0.3738 - val_accuracy: 0.9190\n",
            "Epoch 36/1000\n",
            " 1/29 [>.............................] - ETA: 0s - loss: 0.7632 - accuracy: 0.6875\n",
            "Epoch 36: saving model to model/keypoint_classifier\\keypoint_classifier.hdf5\n",
            "29/29 [==============================] - 0s 2ms/step - loss: 0.6420 - accuracy: 0.7329 - val_loss: 0.3693 - val_accuracy: 0.9223\n",
            "Epoch 37/1000\n",
            " 1/29 [>.............................] - ETA: 0s - loss: 0.6683 - accuracy: 0.7422\n",
            "Epoch 37: saving model to model/keypoint_classifier\\keypoint_classifier.hdf5\n",
            "29/29 [==============================] - 0s 2ms/step - loss: 0.6487 - accuracy: 0.7329 - val_loss: 0.3645 - val_accuracy: 0.9215\n",
            "Epoch 38/1000\n",
            " 1/29 [>.............................] - ETA: 0s - loss: 0.6174 - accuracy: 0.7734\n",
            "Epoch 38: saving model to model/keypoint_classifier\\keypoint_classifier.hdf5\n",
            "29/29 [==============================] - 0s 2ms/step - loss: 0.6530 - accuracy: 0.7365 - val_loss: 0.3540 - val_accuracy: 0.9265\n",
            "Epoch 39/1000\n",
            " 1/29 [>.............................] - ETA: 0s - loss: 0.6607 - accuracy: 0.7031\n",
            "Epoch 39: saving model to model/keypoint_classifier\\keypoint_classifier.hdf5\n",
            "29/29 [==============================] - 0s 2ms/step - loss: 0.6214 - accuracy: 0.7507 - val_loss: 0.3458 - val_accuracy: 0.9282\n",
            "Epoch 40/1000\n",
            " 1/29 [>.............................] - ETA: 0s - loss: 0.6655 - accuracy: 0.7266\n",
            "Epoch 40: saving model to model/keypoint_classifier\\keypoint_classifier.hdf5\n",
            "29/29 [==============================] - 0s 2ms/step - loss: 0.6216 - accuracy: 0.7476 - val_loss: 0.3375 - val_accuracy: 0.9323\n",
            "Epoch 41/1000\n",
            " 1/29 [>.............................] - ETA: 0s - loss: 0.5704 - accuracy: 0.7969\n",
            "Epoch 41: saving model to model/keypoint_classifier\\keypoint_classifier.hdf5\n",
            "29/29 [==============================] - 0s 2ms/step - loss: 0.6097 - accuracy: 0.7599 - val_loss: 0.3357 - val_accuracy: 0.9223\n",
            "Epoch 42/1000\n",
            " 1/29 [>.............................] - ETA: 0s - loss: 0.6050 - accuracy: 0.7422\n",
            "Epoch 42: saving model to model/keypoint_classifier\\keypoint_classifier.hdf5\n",
            "29/29 [==============================] - 0s 2ms/step - loss: 0.6370 - accuracy: 0.7482 - val_loss: 0.3341 - val_accuracy: 0.9298\n",
            "Epoch 43/1000\n",
            " 1/29 [>.............................] - ETA: 0s - loss: 0.5460 - accuracy: 0.7891\n",
            "Epoch 43: saving model to model/keypoint_classifier\\keypoint_classifier.hdf5\n",
            "29/29 [==============================] - 0s 2ms/step - loss: 0.6078 - accuracy: 0.7574 - val_loss: 0.3261 - val_accuracy: 0.9373\n",
            "Epoch 44/1000\n",
            " 1/29 [>.............................] - ETA: 0s - loss: 0.6777 - accuracy: 0.6797\n",
            "Epoch 44: saving model to model/keypoint_classifier\\keypoint_classifier.hdf5\n",
            "29/29 [==============================] - 0s 2ms/step - loss: 0.6033 - accuracy: 0.7649 - val_loss: 0.3279 - val_accuracy: 0.9307\n",
            "Epoch 45/1000\n",
            " 1/29 [>.............................] - ETA: 0s - loss: 0.5687 - accuracy: 0.7734\n",
            "Epoch 45: saving model to model/keypoint_classifier\\keypoint_classifier.hdf5\n",
            "29/29 [==============================] - 0s 2ms/step - loss: 0.6092 - accuracy: 0.7669 - val_loss: 0.3213 - val_accuracy: 0.9390\n",
            "Epoch 46/1000\n",
            " 1/29 [>.............................] - ETA: 0s - loss: 0.5974 - accuracy: 0.7656\n",
            "Epoch 46: saving model to model/keypoint_classifier\\keypoint_classifier.hdf5\n",
            "29/29 [==============================] - 0s 2ms/step - loss: 0.6052 - accuracy: 0.7560 - val_loss: 0.3163 - val_accuracy: 0.9315\n",
            "Epoch 47/1000\n",
            " 1/29 [>.............................] - ETA: 0s - loss: 0.6665 - accuracy: 0.7266\n",
            "Epoch 47: saving model to model/keypoint_classifier\\keypoint_classifier.hdf5\n",
            "29/29 [==============================] - 0s 2ms/step - loss: 0.6011 - accuracy: 0.7655 - val_loss: 0.3145 - val_accuracy: 0.9365\n",
            "Epoch 48/1000\n",
            " 1/29 [>.............................] - ETA: 0s - loss: 0.5058 - accuracy: 0.7969\n",
            "Epoch 48: saving model to model/keypoint_classifier\\keypoint_classifier.hdf5\n",
            "29/29 [==============================] - 0s 2ms/step - loss: 0.5910 - accuracy: 0.7713 - val_loss: 0.3086 - val_accuracy: 0.9348\n",
            "Epoch 49/1000\n",
            " 1/29 [>.............................] - ETA: 0s - loss: 0.6082 - accuracy: 0.7422\n",
            "Epoch 49: saving model to model/keypoint_classifier\\keypoint_classifier.hdf5\n",
            "29/29 [==============================] - 0s 2ms/step - loss: 0.5889 - accuracy: 0.7705 - val_loss: 0.3026 - val_accuracy: 0.9365\n",
            "Epoch 50/1000\n",
            " 1/29 [>.............................] - ETA: 0s - loss: 0.5829 - accuracy: 0.8047\n",
            "Epoch 50: saving model to model/keypoint_classifier\\keypoint_classifier.hdf5\n",
            "29/29 [==============================] - 0s 2ms/step - loss: 0.5947 - accuracy: 0.7677 - val_loss: 0.2989 - val_accuracy: 0.9432\n",
            "Epoch 51/1000\n",
            " 1/29 [>.............................] - ETA: 0s - loss: 0.5269 - accuracy: 0.7969\n",
            "Epoch 51: saving model to model/keypoint_classifier\\keypoint_classifier.hdf5\n",
            "29/29 [==============================] - 0s 2ms/step - loss: 0.5748 - accuracy: 0.7685 - val_loss: 0.2941 - val_accuracy: 0.9382\n",
            "Epoch 52/1000\n",
            " 1/29 [>.............................] - ETA: 0s - loss: 0.7473 - accuracy: 0.6953\n",
            "Epoch 52: saving model to model/keypoint_classifier\\keypoint_classifier.hdf5\n",
            "29/29 [==============================] - 0s 2ms/step - loss: 0.5659 - accuracy: 0.7788 - val_loss: 0.2870 - val_accuracy: 0.9457\n",
            "Epoch 53/1000\n",
            " 1/29 [>.............................] - ETA: 0s - loss: 0.6668 - accuracy: 0.7656\n",
            "Epoch 53: saving model to model/keypoint_classifier\\keypoint_classifier.hdf5\n",
            "29/29 [==============================] - 0s 2ms/step - loss: 0.5834 - accuracy: 0.7735 - val_loss: 0.2871 - val_accuracy: 0.9415\n",
            "Epoch 54/1000\n",
            " 1/29 [>.............................] - ETA: 0s - loss: 0.4620 - accuracy: 0.8438\n",
            "Epoch 54: saving model to model/keypoint_classifier\\keypoint_classifier.hdf5\n",
            "29/29 [==============================] - 0s 2ms/step - loss: 0.5748 - accuracy: 0.7777 - val_loss: 0.2896 - val_accuracy: 0.9424\n",
            "Epoch 55/1000\n",
            " 1/29 [>.............................] - ETA: 0s - loss: 0.5864 - accuracy: 0.7891\n",
            "Epoch 55: saving model to model/keypoint_classifier\\keypoint_classifier.hdf5\n",
            "29/29 [==============================] - 0s 2ms/step - loss: 0.5638 - accuracy: 0.7794 - val_loss: 0.2807 - val_accuracy: 0.9474\n",
            "Epoch 56/1000\n",
            " 1/29 [>.............................] - ETA: 0s - loss: 0.5758 - accuracy: 0.7578\n",
            "Epoch 56: saving model to model/keypoint_classifier\\keypoint_classifier.hdf5\n",
            "29/29 [==============================] - 0s 2ms/step - loss: 0.5996 - accuracy: 0.7635 - val_loss: 0.2818 - val_accuracy: 0.9415\n",
            "Epoch 57/1000\n",
            " 1/29 [>.............................] - ETA: 0s - loss: 0.5878 - accuracy: 0.7891\n",
            "Epoch 57: saving model to model/keypoint_classifier\\keypoint_classifier.hdf5\n",
            "29/29 [==============================] - 0s 2ms/step - loss: 0.5629 - accuracy: 0.7852 - val_loss: 0.2751 - val_accuracy: 0.9424\n",
            "Epoch 58/1000\n",
            " 1/29 [>.............................] - ETA: 0s - loss: 0.7890 - accuracy: 0.7109\n",
            "Epoch 58: saving model to model/keypoint_classifier\\keypoint_classifier.hdf5\n",
            "29/29 [==============================] - 0s 2ms/step - loss: 0.5539 - accuracy: 0.7936 - val_loss: 0.2706 - val_accuracy: 0.9457\n",
            "Epoch 59/1000\n",
            " 1/29 [>.............................] - ETA: 0s - loss: 0.6195 - accuracy: 0.7734\n",
            "Epoch 59: saving model to model/keypoint_classifier\\keypoint_classifier.hdf5\n",
            "29/29 [==============================] - 0s 2ms/step - loss: 0.5568 - accuracy: 0.7808 - val_loss: 0.2685 - val_accuracy: 0.9474\n",
            "Epoch 60/1000\n",
            " 1/29 [>.............................] - ETA: 0s - loss: 0.6420 - accuracy: 0.7578\n",
            "Epoch 60: saving model to model/keypoint_classifier\\keypoint_classifier.hdf5\n",
            "29/29 [==============================] - 0s 2ms/step - loss: 0.5878 - accuracy: 0.7724 - val_loss: 0.2682 - val_accuracy: 0.9482\n",
            "Epoch 61/1000\n",
            " 1/29 [>.............................] - ETA: 0s - loss: 0.6035 - accuracy: 0.7734\n",
            "Epoch 61: saving model to model/keypoint_classifier\\keypoint_classifier.hdf5\n",
            "29/29 [==============================] - 0s 2ms/step - loss: 0.5597 - accuracy: 0.7763 - val_loss: 0.2655 - val_accuracy: 0.9449\n",
            "Epoch 62/1000\n",
            " 1/29 [>.............................] - ETA: 0s - loss: 0.4571 - accuracy: 0.8047\n",
            "Epoch 62: saving model to model/keypoint_classifier\\keypoint_classifier.hdf5\n",
            "29/29 [==============================] - 0s 2ms/step - loss: 0.5528 - accuracy: 0.7822 - val_loss: 0.2614 - val_accuracy: 0.9507\n",
            "Epoch 63/1000\n",
            " 1/29 [>.............................] - ETA: 0s - loss: 0.5913 - accuracy: 0.7812\n",
            "Epoch 63: saving model to model/keypoint_classifier\\keypoint_classifier.hdf5\n",
            "29/29 [==============================] - 0s 2ms/step - loss: 0.5365 - accuracy: 0.7958 - val_loss: 0.2562 - val_accuracy: 0.9482\n",
            "Epoch 64/1000\n",
            " 1/29 [>.............................] - ETA: 0s - loss: 0.5260 - accuracy: 0.7969\n",
            "Epoch 64: saving model to model/keypoint_classifier\\keypoint_classifier.hdf5\n",
            "29/29 [==============================] - 0s 2ms/step - loss: 0.5595 - accuracy: 0.7833 - val_loss: 0.2573 - val_accuracy: 0.9524\n",
            "Epoch 65/1000\n",
            " 1/29 [>.............................] - ETA: 0s - loss: 0.5050 - accuracy: 0.8047\n",
            "Epoch 65: saving model to model/keypoint_classifier\\keypoint_classifier.hdf5\n",
            "29/29 [==============================] - 0s 2ms/step - loss: 0.5386 - accuracy: 0.7916 - val_loss: 0.2500 - val_accuracy: 0.9515\n",
            "Epoch 66/1000\n",
            " 1/29 [>.............................] - ETA: 0s - loss: 0.4230 - accuracy: 0.8359\n",
            "Epoch 66: saving model to model/keypoint_classifier\\keypoint_classifier.hdf5\n",
            "29/29 [==============================] - 0s 2ms/step - loss: 0.5505 - accuracy: 0.7919 - val_loss: 0.2473 - val_accuracy: 0.9549\n",
            "Epoch 67/1000\n",
            " 1/29 [>.............................] - ETA: 0s - loss: 0.6330 - accuracy: 0.7734\n",
            "Epoch 67: saving model to model/keypoint_classifier\\keypoint_classifier.hdf5\n",
            "29/29 [==============================] - 0s 2ms/step - loss: 0.5621 - accuracy: 0.7930 - val_loss: 0.2487 - val_accuracy: 0.9532\n",
            "Epoch 68/1000\n",
            " 1/29 [>.............................] - ETA: 0s - loss: 0.4655 - accuracy: 0.8281\n",
            "Epoch 68: saving model to model/keypoint_classifier\\keypoint_classifier.hdf5\n",
            "29/29 [==============================] - 0s 2ms/step - loss: 0.5694 - accuracy: 0.7822 - val_loss: 0.2492 - val_accuracy: 0.9524\n",
            "Epoch 69/1000\n",
            " 1/29 [>.............................] - ETA: 0s - loss: 0.5259 - accuracy: 0.7969\n",
            "Epoch 69: saving model to model/keypoint_classifier\\keypoint_classifier.hdf5\n",
            "29/29 [==============================] - 0s 2ms/step - loss: 0.5568 - accuracy: 0.7869 - val_loss: 0.2520 - val_accuracy: 0.9532\n",
            "Epoch 70/1000\n",
            " 1/29 [>.............................] - ETA: 0s - loss: 0.6474 - accuracy: 0.7656\n",
            "Epoch 70: saving model to model/keypoint_classifier\\keypoint_classifier.hdf5\n",
            "29/29 [==============================] - 0s 2ms/step - loss: 0.5511 - accuracy: 0.7869 - val_loss: 0.2476 - val_accuracy: 0.9524\n",
            "Epoch 71/1000\n",
            " 1/29 [>.............................] - ETA: 0s - loss: 0.5038 - accuracy: 0.7812\n",
            "Epoch 71: saving model to model/keypoint_classifier\\keypoint_classifier.hdf5\n",
            "29/29 [==============================] - 0s 2ms/step - loss: 0.5636 - accuracy: 0.7836 - val_loss: 0.2465 - val_accuracy: 0.9549\n",
            "Epoch 72/1000\n",
            " 1/29 [>.............................] - ETA: 0s - loss: 0.5318 - accuracy: 0.8203\n",
            "Epoch 72: saving model to model/keypoint_classifier\\keypoint_classifier.hdf5\n",
            "29/29 [==============================] - 0s 2ms/step - loss: 0.5405 - accuracy: 0.8053 - val_loss: 0.2414 - val_accuracy: 0.9566\n",
            "Epoch 73/1000\n",
            " 1/29 [>.............................] - ETA: 0s - loss: 0.4856 - accuracy: 0.7734\n",
            "Epoch 73: saving model to model/keypoint_classifier\\keypoint_classifier.hdf5\n",
            "29/29 [==============================] - 0s 2ms/step - loss: 0.5290 - accuracy: 0.8003 - val_loss: 0.2362 - val_accuracy: 0.9532\n",
            "Epoch 74/1000\n",
            " 1/29 [>.............................] - ETA: 0s - loss: 0.5691 - accuracy: 0.7969\n",
            "Epoch 74: saving model to model/keypoint_classifier\\keypoint_classifier.hdf5\n",
            "29/29 [==============================] - 0s 2ms/step - loss: 0.5597 - accuracy: 0.7816 - val_loss: 0.2417 - val_accuracy: 0.9524\n",
            "Epoch 75/1000\n",
            " 1/29 [>.............................] - ETA: 0s - loss: 0.6187 - accuracy: 0.7422\n",
            "Epoch 75: saving model to model/keypoint_classifier\\keypoint_classifier.hdf5\n",
            "29/29 [==============================] - 0s 2ms/step - loss: 0.5452 - accuracy: 0.7841 - val_loss: 0.2370 - val_accuracy: 0.9566\n",
            "Epoch 76/1000\n",
            " 1/29 [>.............................] - ETA: 0s - loss: 0.6892 - accuracy: 0.6875\n",
            "Epoch 76: saving model to model/keypoint_classifier\\keypoint_classifier.hdf5\n",
            "29/29 [==============================] - 0s 2ms/step - loss: 0.5359 - accuracy: 0.7891 - val_loss: 0.2345 - val_accuracy: 0.9549\n",
            "Epoch 77/1000\n",
            " 1/29 [>.............................] - ETA: 0s - loss: 0.5306 - accuracy: 0.7500\n",
            "Epoch 77: saving model to model/keypoint_classifier\\keypoint_classifier.hdf5\n",
            "29/29 [==============================] - 0s 2ms/step - loss: 0.5081 - accuracy: 0.8097 - val_loss: 0.2315 - val_accuracy: 0.9566\n",
            "Epoch 78/1000\n",
            " 1/29 [>.............................] - ETA: 0s - loss: 0.5933 - accuracy: 0.7578\n",
            "Epoch 78: saving model to model/keypoint_classifier\\keypoint_classifier.hdf5\n",
            "29/29 [==============================] - 0s 2ms/step - loss: 0.5303 - accuracy: 0.7972 - val_loss: 0.2320 - val_accuracy: 0.9582\n",
            "Epoch 79/1000\n",
            " 1/29 [>.............................] - ETA: 0s - loss: 0.5964 - accuracy: 0.7500\n",
            "Epoch 79: saving model to model/keypoint_classifier\\keypoint_classifier.hdf5\n",
            "29/29 [==============================] - 0s 2ms/step - loss: 0.5405 - accuracy: 0.7933 - val_loss: 0.2287 - val_accuracy: 0.9557\n",
            "Epoch 80/1000\n",
            " 1/29 [>.............................] - ETA: 0s - loss: 0.5658 - accuracy: 0.8281\n",
            "Epoch 80: saving model to model/keypoint_classifier\\keypoint_classifier.hdf5\n",
            "29/29 [==============================] - 0s 2ms/step - loss: 0.5270 - accuracy: 0.8008 - val_loss: 0.2286 - val_accuracy: 0.9532\n",
            "Epoch 81/1000\n",
            " 1/29 [>.............................] - ETA: 0s - loss: 0.4804 - accuracy: 0.8125\n",
            "Epoch 81: saving model to model/keypoint_classifier\\keypoint_classifier.hdf5\n",
            "29/29 [==============================] - 0s 2ms/step - loss: 0.4963 - accuracy: 0.8153 - val_loss: 0.2274 - val_accuracy: 0.9532\n",
            "Epoch 82/1000\n",
            " 1/29 [>.............................] - ETA: 0s - loss: 0.5010 - accuracy: 0.7969\n",
            "Epoch 82: saving model to model/keypoint_classifier\\keypoint_classifier.hdf5\n",
            "29/29 [==============================] - 0s 2ms/step - loss: 0.5209 - accuracy: 0.8084 - val_loss: 0.2294 - val_accuracy: 0.9515\n",
            "Epoch 83/1000\n",
            " 1/29 [>.............................] - ETA: 0s - loss: 0.5848 - accuracy: 0.7891\n",
            "Epoch 83: saving model to model/keypoint_classifier\\keypoint_classifier.hdf5\n",
            "29/29 [==============================] - 0s 2ms/step - loss: 0.4876 - accuracy: 0.8170 - val_loss: 0.2203 - val_accuracy: 0.9524\n",
            "Epoch 84/1000\n",
            " 1/29 [>.............................] - ETA: 0s - loss: 0.4117 - accuracy: 0.8594\n",
            "Epoch 84: saving model to model/keypoint_classifier\\keypoint_classifier.hdf5\n",
            "29/29 [==============================] - 0s 2ms/step - loss: 0.5108 - accuracy: 0.8064 - val_loss: 0.2211 - val_accuracy: 0.9574\n",
            "Epoch 85/1000\n",
            " 1/29 [>.............................] - ETA: 0s - loss: 0.6188 - accuracy: 0.7578\n",
            "Epoch 85: saving model to model/keypoint_classifier\\keypoint_classifier.hdf5\n",
            "29/29 [==============================] - 0s 2ms/step - loss: 0.5240 - accuracy: 0.7955 - val_loss: 0.2133 - val_accuracy: 0.9574\n",
            "Epoch 86/1000\n",
            " 1/29 [>.............................] - ETA: 0s - loss: 0.4415 - accuracy: 0.8203\n",
            "Epoch 86: saving model to model/keypoint_classifier\\keypoint_classifier.hdf5\n",
            "29/29 [==============================] - 0s 2ms/step - loss: 0.5199 - accuracy: 0.8058 - val_loss: 0.2142 - val_accuracy: 0.9574\n",
            "Epoch 87/1000\n",
            " 1/29 [>.............................] - ETA: 0s - loss: 0.5008 - accuracy: 0.8125\n",
            "Epoch 87: saving model to model/keypoint_classifier\\keypoint_classifier.hdf5\n",
            "29/29 [==============================] - 0s 2ms/step - loss: 0.5099 - accuracy: 0.8078 - val_loss: 0.2134 - val_accuracy: 0.9557\n",
            "Epoch 88/1000\n",
            " 1/29 [>.............................] - ETA: 0s - loss: 0.5586 - accuracy: 0.7656\n",
            "Epoch 88: saving model to model/keypoint_classifier\\keypoint_classifier.hdf5\n",
            "29/29 [==============================] - 0s 2ms/step - loss: 0.5123 - accuracy: 0.8070 - val_loss: 0.2137 - val_accuracy: 0.9582\n",
            "Epoch 89/1000\n",
            " 1/29 [>.............................] - ETA: 0s - loss: 0.6090 - accuracy: 0.7891\n",
            "Epoch 89: saving model to model/keypoint_classifier\\keypoint_classifier.hdf5\n",
            "29/29 [==============================] - 0s 2ms/step - loss: 0.5295 - accuracy: 0.7914 - val_loss: 0.2199 - val_accuracy: 0.9557\n",
            "Epoch 90/1000\n",
            " 1/29 [>.............................] - ETA: 0s - loss: 0.5178 - accuracy: 0.8203\n",
            "Epoch 90: saving model to model/keypoint_classifier\\keypoint_classifier.hdf5\n",
            "29/29 [==============================] - 0s 2ms/step - loss: 0.5132 - accuracy: 0.8031 - val_loss: 0.2168 - val_accuracy: 0.9566\n",
            "Epoch 91/1000\n",
            " 1/29 [>.............................] - ETA: 0s - loss: 0.5238 - accuracy: 0.7578\n",
            "Epoch 91: saving model to model/keypoint_classifier\\keypoint_classifier.hdf5\n",
            "29/29 [==============================] - 0s 2ms/step - loss: 0.5071 - accuracy: 0.8033 - val_loss: 0.2112 - val_accuracy: 0.9607\n",
            "Epoch 92/1000\n",
            " 1/29 [>.............................] - ETA: 0s - loss: 0.5198 - accuracy: 0.7812\n",
            "Epoch 92: saving model to model/keypoint_classifier\\keypoint_classifier.hdf5\n",
            "29/29 [==============================] - 0s 2ms/step - loss: 0.5221 - accuracy: 0.7981 - val_loss: 0.2136 - val_accuracy: 0.9574\n",
            "Epoch 93/1000\n",
            " 1/29 [>.............................] - ETA: 0s - loss: 0.4349 - accuracy: 0.8281\n",
            "Epoch 93: saving model to model/keypoint_classifier\\keypoint_classifier.hdf5\n",
            "29/29 [==============================] - 0s 2ms/step - loss: 0.4998 - accuracy: 0.8089 - val_loss: 0.2067 - val_accuracy: 0.9541\n",
            "Epoch 94/1000\n",
            " 1/29 [>.............................] - ETA: 0s - loss: 0.4411 - accuracy: 0.8281\n",
            "Epoch 94: saving model to model/keypoint_classifier\\keypoint_classifier.hdf5\n",
            "29/29 [==============================] - 0s 2ms/step - loss: 0.5173 - accuracy: 0.8061 - val_loss: 0.2070 - val_accuracy: 0.9524\n",
            "Epoch 95/1000\n",
            " 1/29 [>.............................] - ETA: 0s - loss: 0.6097 - accuracy: 0.7266\n",
            "Epoch 95: saving model to model/keypoint_classifier\\keypoint_classifier.hdf5\n",
            "29/29 [==============================] - 0s 2ms/step - loss: 0.5176 - accuracy: 0.8064 - val_loss: 0.2024 - val_accuracy: 0.9541\n",
            "Epoch 96/1000\n",
            " 1/29 [>.............................] - ETA: 0s - loss: 0.4475 - accuracy: 0.8516\n",
            "Epoch 96: saving model to model/keypoint_classifier\\keypoint_classifier.hdf5\n",
            "29/29 [==============================] - 0s 2ms/step - loss: 0.4988 - accuracy: 0.8159 - val_loss: 0.2055 - val_accuracy: 0.9524\n",
            "Epoch 97/1000\n",
            " 1/29 [>.............................] - ETA: 0s - loss: 0.5078 - accuracy: 0.8203\n",
            "Epoch 97: saving model to model/keypoint_classifier\\keypoint_classifier.hdf5\n",
            "29/29 [==============================] - 0s 2ms/step - loss: 0.4952 - accuracy: 0.8131 - val_loss: 0.2076 - val_accuracy: 0.9566\n",
            "Epoch 98/1000\n",
            " 1/29 [>.............................] - ETA: 0s - loss: 0.4787 - accuracy: 0.8594\n",
            "Epoch 98: saving model to model/keypoint_classifier\\keypoint_classifier.hdf5\n",
            "29/29 [==============================] - 0s 2ms/step - loss: 0.5023 - accuracy: 0.8095 - val_loss: 0.2075 - val_accuracy: 0.9549\n",
            "Epoch 99/1000\n",
            " 1/29 [>.............................] - ETA: 0s - loss: 0.5921 - accuracy: 0.7500\n",
            "Epoch 99: saving model to model/keypoint_classifier\\keypoint_classifier.hdf5\n",
            "29/29 [==============================] - 0s 2ms/step - loss: 0.4895 - accuracy: 0.8123 - val_loss: 0.2092 - val_accuracy: 0.9566\n",
            "Epoch 100/1000\n",
            " 1/29 [>.............................] - ETA: 0s - loss: 0.6069 - accuracy: 0.7891\n",
            "Epoch 100: saving model to model/keypoint_classifier\\keypoint_classifier.hdf5\n",
            "29/29 [==============================] - 0s 2ms/step - loss: 0.4987 - accuracy: 0.8109 - val_loss: 0.2041 - val_accuracy: 0.9582\n",
            "Epoch 101/1000\n",
            " 1/29 [>.............................] - ETA: 0s - loss: 0.4771 - accuracy: 0.8281\n",
            "Epoch 101: saving model to model/keypoint_classifier\\keypoint_classifier.hdf5\n",
            "29/29 [==============================] - 0s 2ms/step - loss: 0.5056 - accuracy: 0.8078 - val_loss: 0.2060 - val_accuracy: 0.9532\n",
            "Epoch 102/1000\n",
            " 1/29 [>.............................] - ETA: 0s - loss: 0.4817 - accuracy: 0.8359\n",
            "Epoch 102: saving model to model/keypoint_classifier\\keypoint_classifier.hdf5\n",
            "29/29 [==============================] - 0s 2ms/step - loss: 0.5037 - accuracy: 0.8114 - val_loss: 0.2165 - val_accuracy: 0.9490\n",
            "Epoch 103/1000\n",
            " 1/29 [>.............................] - ETA: 0s - loss: 0.3795 - accuracy: 0.8828\n",
            "Epoch 103: saving model to model/keypoint_classifier\\keypoint_classifier.hdf5\n",
            "29/29 [==============================] - 0s 2ms/step - loss: 0.5084 - accuracy: 0.8058 - val_loss: 0.2088 - val_accuracy: 0.9474\n",
            "Epoch 104/1000\n",
            " 1/29 [>.............................] - ETA: 0s - loss: 0.4922 - accuracy: 0.7656\n",
            "Epoch 104: saving model to model/keypoint_classifier\\keypoint_classifier.hdf5\n",
            "29/29 [==============================] - 0s 2ms/step - loss: 0.4914 - accuracy: 0.8109 - val_loss: 0.2022 - val_accuracy: 0.9549\n",
            "Epoch 105/1000\n",
            " 1/29 [>.............................] - ETA: 0s - loss: 0.5354 - accuracy: 0.7734\n",
            "Epoch 105: saving model to model/keypoint_classifier\\keypoint_classifier.hdf5\n",
            "29/29 [==============================] - 0s 2ms/step - loss: 0.4865 - accuracy: 0.8167 - val_loss: 0.2018 - val_accuracy: 0.9532\n",
            "Epoch 106/1000\n",
            " 1/29 [>.............................] - ETA: 0s - loss: 0.4545 - accuracy: 0.8281\n",
            "Epoch 106: saving model to model/keypoint_classifier\\keypoint_classifier.hdf5\n",
            "29/29 [==============================] - 0s 2ms/step - loss: 0.4853 - accuracy: 0.8253 - val_loss: 0.2005 - val_accuracy: 0.9549\n",
            "Epoch 107/1000\n",
            " 1/29 [>.............................] - ETA: 0s - loss: 0.5577 - accuracy: 0.7344\n",
            "Epoch 107: saving model to model/keypoint_classifier\\keypoint_classifier.hdf5\n",
            "29/29 [==============================] - 0s 2ms/step - loss: 0.4932 - accuracy: 0.8139 - val_loss: 0.2037 - val_accuracy: 0.9566\n",
            "Epoch 108/1000\n",
            " 1/29 [>.............................] - ETA: 0s - loss: 0.4936 - accuracy: 0.8125\n",
            "Epoch 108: saving model to model/keypoint_classifier\\keypoint_classifier.hdf5\n",
            "29/29 [==============================] - 0s 2ms/step - loss: 0.4979 - accuracy: 0.8131 - val_loss: 0.1925 - val_accuracy: 0.9557\n",
            "Epoch 109/1000\n",
            " 1/29 [>.............................] - ETA: 0s - loss: 0.5943 - accuracy: 0.7656\n",
            "Epoch 109: saving model to model/keypoint_classifier\\keypoint_classifier.hdf5\n",
            "29/29 [==============================] - 0s 2ms/step - loss: 0.4945 - accuracy: 0.8131 - val_loss: 0.2018 - val_accuracy: 0.9499\n",
            "Epoch 110/1000\n",
            " 1/29 [>.............................] - ETA: 0s - loss: 0.5094 - accuracy: 0.8203\n",
            "Epoch 110: saving model to model/keypoint_classifier\\keypoint_classifier.hdf5\n",
            "29/29 [==============================] - 0s 2ms/step - loss: 0.4971 - accuracy: 0.8145 - val_loss: 0.2032 - val_accuracy: 0.9515\n",
            "Epoch 111/1000\n",
            " 1/29 [>.............................] - ETA: 0s - loss: 0.6683 - accuracy: 0.7422\n",
            "Epoch 111: saving model to model/keypoint_classifier\\keypoint_classifier.hdf5\n",
            "29/29 [==============================] - 0s 2ms/step - loss: 0.4903 - accuracy: 0.8117 - val_loss: 0.1954 - val_accuracy: 0.9532\n",
            "Epoch 112/1000\n",
            " 1/29 [>.............................] - ETA: 0s - loss: 0.4780 - accuracy: 0.8594\n",
            "Epoch 112: saving model to model/keypoint_classifier\\keypoint_classifier.hdf5\n",
            "29/29 [==============================] - 0s 2ms/step - loss: 0.4885 - accuracy: 0.8201 - val_loss: 0.1942 - val_accuracy: 0.9574\n",
            "Epoch 113/1000\n",
            " 1/29 [>.............................] - ETA: 0s - loss: 0.3280 - accuracy: 0.8594\n",
            "Epoch 113: saving model to model/keypoint_classifier\\keypoint_classifier.hdf5\n",
            "29/29 [==============================] - 0s 2ms/step - loss: 0.4923 - accuracy: 0.8131 - val_loss: 0.1957 - val_accuracy: 0.9557\n",
            "Epoch 114/1000\n",
            " 1/29 [>.............................] - ETA: 0s - loss: 0.5051 - accuracy: 0.8125\n",
            "Epoch 114: saving model to model/keypoint_classifier\\keypoint_classifier.hdf5\n",
            "29/29 [==============================] - 0s 2ms/step - loss: 0.4913 - accuracy: 0.8184 - val_loss: 0.2015 - val_accuracy: 0.9532\n",
            "Epoch 115/1000\n",
            " 1/29 [>.............................] - ETA: 0s - loss: 0.4723 - accuracy: 0.8281\n",
            "Epoch 115: saving model to model/keypoint_classifier\\keypoint_classifier.hdf5\n",
            "29/29 [==============================] - 0s 2ms/step - loss: 0.4951 - accuracy: 0.8095 - val_loss: 0.1940 - val_accuracy: 0.9616\n",
            "Epoch 116/1000\n",
            " 1/29 [>.............................] - ETA: 0s - loss: 0.5587 - accuracy: 0.7500\n",
            "Epoch 116: saving model to model/keypoint_classifier\\keypoint_classifier.hdf5\n",
            "29/29 [==============================] - 0s 2ms/step - loss: 0.4888 - accuracy: 0.8159 - val_loss: 0.1882 - val_accuracy: 0.9591\n",
            "Epoch 117/1000\n",
            " 1/29 [>.............................] - ETA: 0s - loss: 0.5474 - accuracy: 0.8438\n",
            "Epoch 117: saving model to model/keypoint_classifier\\keypoint_classifier.hdf5\n",
            "29/29 [==============================] - 0s 2ms/step - loss: 0.4838 - accuracy: 0.8189 - val_loss: 0.1942 - val_accuracy: 0.9582\n",
            "Epoch 118/1000\n",
            " 1/29 [>.............................] - ETA: 0s - loss: 0.4418 - accuracy: 0.8125\n",
            "Epoch 118: saving model to model/keypoint_classifier\\keypoint_classifier.hdf5\n",
            "29/29 [==============================] - 0s 2ms/step - loss: 0.4959 - accuracy: 0.8134 - val_loss: 0.1967 - val_accuracy: 0.9607\n",
            "Epoch 119/1000\n",
            " 1/29 [>.............................] - ETA: 0s - loss: 0.4299 - accuracy: 0.8359\n",
            "Epoch 119: saving model to model/keypoint_classifier\\keypoint_classifier.hdf5\n",
            "29/29 [==============================] - 0s 2ms/step - loss: 0.5056 - accuracy: 0.8081 - val_loss: 0.1929 - val_accuracy: 0.9624\n",
            "Epoch 120/1000\n",
            " 1/29 [>.............................] - ETA: 0s - loss: 0.5350 - accuracy: 0.8438\n",
            "Epoch 120: saving model to model/keypoint_classifier\\keypoint_classifier.hdf5\n",
            "29/29 [==============================] - 0s 2ms/step - loss: 0.4968 - accuracy: 0.8150 - val_loss: 0.1919 - val_accuracy: 0.9616\n",
            "Epoch 121/1000\n",
            " 1/29 [>.............................] - ETA: 0s - loss: 0.4610 - accuracy: 0.8438\n",
            "Epoch 121: saving model to model/keypoint_classifier\\keypoint_classifier.hdf5\n",
            "29/29 [==============================] - 0s 2ms/step - loss: 0.4908 - accuracy: 0.8145 - val_loss: 0.1903 - val_accuracy: 0.9607\n",
            "Epoch 122/1000\n",
            " 1/29 [>.............................] - ETA: 0s - loss: 0.4445 - accuracy: 0.8203\n",
            "Epoch 122: saving model to model/keypoint_classifier\\keypoint_classifier.hdf5\n",
            "29/29 [==============================] - 0s 2ms/step - loss: 0.4715 - accuracy: 0.8273 - val_loss: 0.1884 - val_accuracy: 0.9599\n",
            "Epoch 123/1000\n",
            " 1/29 [>.............................] - ETA: 0s - loss: 0.5027 - accuracy: 0.7812\n",
            "Epoch 123: saving model to model/keypoint_classifier\\keypoint_classifier.hdf5\n",
            "29/29 [==============================] - 0s 2ms/step - loss: 0.4696 - accuracy: 0.8206 - val_loss: 0.1868 - val_accuracy: 0.9607\n",
            "Epoch 124/1000\n",
            " 1/29 [>.............................] - ETA: 0s - loss: 0.4852 - accuracy: 0.8125\n",
            "Epoch 124: saving model to model/keypoint_classifier\\keypoint_classifier.hdf5\n",
            "29/29 [==============================] - 0s 2ms/step - loss: 0.4858 - accuracy: 0.8206 - val_loss: 0.1851 - val_accuracy: 0.9566\n",
            "Epoch 125/1000\n",
            " 1/29 [>.............................] - ETA: 0s - loss: 0.4649 - accuracy: 0.8672\n",
            "Epoch 125: saving model to model/keypoint_classifier\\keypoint_classifier.hdf5\n",
            "29/29 [==============================] - 0s 2ms/step - loss: 0.4715 - accuracy: 0.8265 - val_loss: 0.1862 - val_accuracy: 0.9574\n",
            "Epoch 126/1000\n",
            " 1/29 [>.............................] - ETA: 0s - loss: 0.4704 - accuracy: 0.8047\n",
            "Epoch 126: saving model to model/keypoint_classifier\\keypoint_classifier.hdf5\n",
            "29/29 [==============================] - 0s 2ms/step - loss: 0.4919 - accuracy: 0.8117 - val_loss: 0.1837 - val_accuracy: 0.9641\n",
            "Epoch 127/1000\n",
            " 1/29 [>.............................] - ETA: 0s - loss: 0.4733 - accuracy: 0.8125\n",
            "Epoch 127: saving model to model/keypoint_classifier\\keypoint_classifier.hdf5\n",
            "29/29 [==============================] - 0s 2ms/step - loss: 0.4760 - accuracy: 0.8209 - val_loss: 0.1831 - val_accuracy: 0.9616\n",
            "Epoch 128/1000\n",
            " 1/29 [>.............................] - ETA: 0s - loss: 0.4210 - accuracy: 0.8359\n",
            "Epoch 128: saving model to model/keypoint_classifier\\keypoint_classifier.hdf5\n",
            "29/29 [==============================] - 0s 2ms/step - loss: 0.4603 - accuracy: 0.8354 - val_loss: 0.1806 - val_accuracy: 0.9591\n",
            "Epoch 129/1000\n",
            " 1/29 [>.............................] - ETA: 0s - loss: 0.4674 - accuracy: 0.7969\n",
            "Epoch 129: saving model to model/keypoint_classifier\\keypoint_classifier.hdf5\n",
            "29/29 [==============================] - 0s 2ms/step - loss: 0.4664 - accuracy: 0.8298 - val_loss: 0.1831 - val_accuracy: 0.9566\n",
            "Epoch 130/1000\n",
            " 1/29 [>.............................] - ETA: 0s - loss: 0.4544 - accuracy: 0.8047\n",
            "Epoch 130: saving model to model/keypoint_classifier\\keypoint_classifier.hdf5\n",
            "29/29 [==============================] - 0s 2ms/step - loss: 0.4698 - accuracy: 0.8240 - val_loss: 0.1851 - val_accuracy: 0.9624\n",
            "Epoch 131/1000\n",
            " 1/29 [>.............................] - ETA: 0s - loss: 0.3868 - accuracy: 0.8438\n",
            "Epoch 131: saving model to model/keypoint_classifier\\keypoint_classifier.hdf5\n",
            "29/29 [==============================] - 0s 2ms/step - loss: 0.4531 - accuracy: 0.8309 - val_loss: 0.1834 - val_accuracy: 0.9599\n",
            "Epoch 132/1000\n",
            " 1/29 [>.............................] - ETA: 0s - loss: 0.4723 - accuracy: 0.8359\n",
            "Epoch 132: saving model to model/keypoint_classifier\\keypoint_classifier.hdf5\n",
            "29/29 [==============================] - 0s 2ms/step - loss: 0.4691 - accuracy: 0.8223 - val_loss: 0.1905 - val_accuracy: 0.9557\n",
            "Epoch 133/1000\n",
            " 1/29 [>.............................] - ETA: 0s - loss: 0.3980 - accuracy: 0.8594\n",
            "Epoch 133: saving model to model/keypoint_classifier\\keypoint_classifier.hdf5\n",
            "29/29 [==============================] - 0s 2ms/step - loss: 0.4644 - accuracy: 0.8287 - val_loss: 0.1851 - val_accuracy: 0.9607\n",
            "Epoch 134/1000\n",
            " 1/29 [>.............................] - ETA: 0s - loss: 0.4008 - accuracy: 0.8828\n",
            "Epoch 134: saving model to model/keypoint_classifier\\keypoint_classifier.hdf5\n",
            "29/29 [==============================] - 0s 2ms/step - loss: 0.4646 - accuracy: 0.8248 - val_loss: 0.1869 - val_accuracy: 0.9616\n",
            "Epoch 135/1000\n",
            " 1/29 [>.............................] - ETA: 0s - loss: 0.4625 - accuracy: 0.8125\n",
            "Epoch 135: saving model to model/keypoint_classifier\\keypoint_classifier.hdf5\n",
            "29/29 [==============================] - 0s 2ms/step - loss: 0.4712 - accuracy: 0.8203 - val_loss: 0.1870 - val_accuracy: 0.9582\n",
            "Epoch 136/1000\n",
            " 1/29 [>.............................] - ETA: 0s - loss: 0.5836 - accuracy: 0.7500\n",
            "Epoch 136: saving model to model/keypoint_classifier\\keypoint_classifier.hdf5\n",
            "29/29 [==============================] - 0s 2ms/step - loss: 0.4831 - accuracy: 0.8103 - val_loss: 0.1901 - val_accuracy: 0.9591\n",
            "Epoch 137/1000\n",
            " 1/29 [>.............................] - ETA: 0s - loss: 0.4590 - accuracy: 0.8438\n",
            "Epoch 137: saving model to model/keypoint_classifier\\keypoint_classifier.hdf5\n",
            "29/29 [==============================] - 0s 2ms/step - loss: 0.4852 - accuracy: 0.8125 - val_loss: 0.1839 - val_accuracy: 0.9624\n",
            "Epoch 138/1000\n",
            " 1/29 [>.............................] - ETA: 0s - loss: 0.4166 - accuracy: 0.8672\n",
            "Epoch 138: saving model to model/keypoint_classifier\\keypoint_classifier.hdf5\n",
            "29/29 [==============================] - 0s 2ms/step - loss: 0.4663 - accuracy: 0.8270 - val_loss: 0.1900 - val_accuracy: 0.9557\n",
            "Epoch 139/1000\n",
            " 1/29 [>.............................] - ETA: 0s - loss: 0.5653 - accuracy: 0.7969\n",
            "Epoch 139: saving model to model/keypoint_classifier\\keypoint_classifier.hdf5\n",
            "29/29 [==============================] - 0s 2ms/step - loss: 0.4880 - accuracy: 0.8217 - val_loss: 0.1923 - val_accuracy: 0.9532\n",
            "Epoch 140/1000\n",
            " 1/29 [>.............................] - ETA: 0s - loss: 0.4895 - accuracy: 0.8047\n",
            "Epoch 140: saving model to model/keypoint_classifier\\keypoint_classifier.hdf5\n",
            "29/29 [==============================] - 0s 2ms/step - loss: 0.4862 - accuracy: 0.8128 - val_loss: 0.1968 - val_accuracy: 0.9566\n",
            "Epoch 141/1000\n",
            " 1/29 [>.............................] - ETA: 0s - loss: 0.6324 - accuracy: 0.7969\n",
            "Epoch 141: saving model to model/keypoint_classifier\\keypoint_classifier.hdf5\n",
            "29/29 [==============================] - 0s 2ms/step - loss: 0.4853 - accuracy: 0.8253 - val_loss: 0.1912 - val_accuracy: 0.9582\n",
            "Epoch 142/1000\n",
            " 1/29 [>.............................] - ETA: 0s - loss: 0.5284 - accuracy: 0.8281\n",
            "Epoch 142: saving model to model/keypoint_classifier\\keypoint_classifier.hdf5\n",
            "29/29 [==============================] - 0s 2ms/step - loss: 0.4671 - accuracy: 0.8245 - val_loss: 0.1832 - val_accuracy: 0.9624\n",
            "Epoch 143/1000\n",
            " 1/29 [>.............................] - ETA: 0s - loss: 0.2872 - accuracy: 0.8984\n",
            "Epoch 143: saving model to model/keypoint_classifier\\keypoint_classifier.hdf5\n",
            "29/29 [==============================] - 0s 2ms/step - loss: 0.4662 - accuracy: 0.8214 - val_loss: 0.1811 - val_accuracy: 0.9641\n",
            "Epoch 144/1000\n",
            " 1/29 [>.............................] - ETA: 0s - loss: 0.5335 - accuracy: 0.8125\n",
            "Epoch 144: saving model to model/keypoint_classifier\\keypoint_classifier.hdf5\n",
            "29/29 [==============================] - 0s 2ms/step - loss: 0.4866 - accuracy: 0.8164 - val_loss: 0.1842 - val_accuracy: 0.9616\n",
            "Epoch 145/1000\n",
            " 1/29 [>.............................] - ETA: 0s - loss: 0.5835 - accuracy: 0.7969\n",
            "Epoch 145: saving model to model/keypoint_classifier\\keypoint_classifier.hdf5\n",
            "29/29 [==============================] - 0s 2ms/step - loss: 0.4733 - accuracy: 0.8223 - val_loss: 0.1804 - val_accuracy: 0.9657\n",
            "Epoch 146/1000\n",
            " 1/29 [>.............................] - ETA: 0s - loss: 0.4138 - accuracy: 0.8281\n",
            "Epoch 146: saving model to model/keypoint_classifier\\keypoint_classifier.hdf5\n",
            "29/29 [==============================] - 0s 2ms/step - loss: 0.4791 - accuracy: 0.8206 - val_loss: 0.1863 - val_accuracy: 0.9591\n",
            "Epoch 147/1000\n",
            " 1/29 [>.............................] - ETA: 0s - loss: 0.4764 - accuracy: 0.8516\n",
            "Epoch 147: saving model to model/keypoint_classifier\\keypoint_classifier.hdf5\n",
            "29/29 [==============================] - 0s 2ms/step - loss: 0.4783 - accuracy: 0.8237 - val_loss: 0.1842 - val_accuracy: 0.9632\n",
            "Epoch 148/1000\n",
            " 1/29 [>.............................] - ETA: 0s - loss: 0.4363 - accuracy: 0.8516\n",
            "Epoch 148: saving model to model/keypoint_classifier\\keypoint_classifier.hdf5\n",
            "29/29 [==============================] - 0s 2ms/step - loss: 0.4647 - accuracy: 0.8212 - val_loss: 0.1859 - val_accuracy: 0.9599\n",
            "Epoch 149/1000\n",
            " 1/29 [>.............................] - ETA: 0s - loss: 0.4518 - accuracy: 0.8438\n",
            "Epoch 149: saving model to model/keypoint_classifier\\keypoint_classifier.hdf5\n",
            "29/29 [==============================] - 0s 2ms/step - loss: 0.4628 - accuracy: 0.8329 - val_loss: 0.1837 - val_accuracy: 0.9616\n",
            "Epoch 150/1000\n",
            " 1/29 [>.............................] - ETA: 0s - loss: 0.4313 - accuracy: 0.8516\n",
            "Epoch 150: saving model to model/keypoint_classifier\\keypoint_classifier.hdf5\n",
            "29/29 [==============================] - 0s 2ms/step - loss: 0.4725 - accuracy: 0.8209 - val_loss: 0.1813 - val_accuracy: 0.9632\n",
            "Epoch 151/1000\n",
            " 1/29 [>.............................] - ETA: 0s - loss: 0.4861 - accuracy: 0.8516\n",
            "Epoch 151: saving model to model/keypoint_classifier\\keypoint_classifier.hdf5\n",
            "29/29 [==============================] - 0s 2ms/step - loss: 0.4587 - accuracy: 0.8368 - val_loss: 0.1800 - val_accuracy: 0.9666\n",
            "Epoch 152/1000\n",
            " 1/29 [>.............................] - ETA: 0s - loss: 0.3909 - accuracy: 0.8672\n",
            "Epoch 152: saving model to model/keypoint_classifier\\keypoint_classifier.hdf5\n",
            "29/29 [==============================] - 0s 2ms/step - loss: 0.4570 - accuracy: 0.8348 - val_loss: 0.1774 - val_accuracy: 0.9649\n",
            "Epoch 153/1000\n",
            " 1/29 [>.............................] - ETA: 0s - loss: 0.4934 - accuracy: 0.7656\n",
            "Epoch 153: saving model to model/keypoint_classifier\\keypoint_classifier.hdf5\n",
            "29/29 [==============================] - 0s 2ms/step - loss: 0.4753 - accuracy: 0.8170 - val_loss: 0.1778 - val_accuracy: 0.9649\n",
            "Epoch 154/1000\n",
            " 1/29 [>.............................] - ETA: 0s - loss: 0.4292 - accuracy: 0.8438\n",
            "Epoch 154: saving model to model/keypoint_classifier\\keypoint_classifier.hdf5\n",
            "29/29 [==============================] - 0s 2ms/step - loss: 0.4615 - accuracy: 0.8315 - val_loss: 0.1763 - val_accuracy: 0.9649\n",
            "Epoch 155/1000\n",
            " 1/29 [>.............................] - ETA: 0s - loss: 0.4031 - accuracy: 0.8906\n",
            "Epoch 155: saving model to model/keypoint_classifier\\keypoint_classifier.hdf5\n",
            "29/29 [==============================] - 0s 2ms/step - loss: 0.4522 - accuracy: 0.8301 - val_loss: 0.1722 - val_accuracy: 0.9683\n",
            "Epoch 156/1000\n",
            " 1/29 [>.............................] - ETA: 0s - loss: 0.5322 - accuracy: 0.8125\n",
            "Epoch 156: saving model to model/keypoint_classifier\\keypoint_classifier.hdf5\n",
            "29/29 [==============================] - 0s 2ms/step - loss: 0.4482 - accuracy: 0.8284 - val_loss: 0.1696 - val_accuracy: 0.9624\n",
            "Epoch 157/1000\n",
            " 1/29 [>.............................] - ETA: 0s - loss: 0.4909 - accuracy: 0.7812\n",
            "Epoch 157: saving model to model/keypoint_classifier\\keypoint_classifier.hdf5\n",
            "29/29 [==============================] - 0s 2ms/step - loss: 0.4853 - accuracy: 0.8123 - val_loss: 0.1800 - val_accuracy: 0.9599\n",
            "Epoch 158/1000\n",
            " 1/29 [>.............................] - ETA: 0s - loss: 0.3811 - accuracy: 0.8750\n",
            "Epoch 158: saving model to model/keypoint_classifier\\keypoint_classifier.hdf5\n",
            "29/29 [==============================] - 0s 2ms/step - loss: 0.4592 - accuracy: 0.8276 - val_loss: 0.1813 - val_accuracy: 0.9641\n",
            "Epoch 159/1000\n",
            " 1/29 [>.............................] - ETA: 0s - loss: 0.4513 - accuracy: 0.8359\n",
            "Epoch 159: saving model to model/keypoint_classifier\\keypoint_classifier.hdf5\n",
            "29/29 [==============================] - 0s 2ms/step - loss: 0.4485 - accuracy: 0.8382 - val_loss: 0.1750 - val_accuracy: 0.9616\n",
            "Epoch 160/1000\n",
            " 1/29 [>.............................] - ETA: 0s - loss: 0.4542 - accuracy: 0.8359\n",
            "Epoch 160: saving model to model/keypoint_classifier\\keypoint_classifier.hdf5\n",
            "29/29 [==============================] - 0s 2ms/step - loss: 0.4541 - accuracy: 0.8351 - val_loss: 0.1706 - val_accuracy: 0.9616\n",
            "Epoch 161/1000\n",
            " 1/29 [>.............................] - ETA: 0s - loss: 0.5253 - accuracy: 0.8125\n",
            "Epoch 161: saving model to model/keypoint_classifier\\keypoint_classifier.hdf5\n",
            "29/29 [==============================] - 0s 2ms/step - loss: 0.4798 - accuracy: 0.8220 - val_loss: 0.1751 - val_accuracy: 0.9657\n",
            "Epoch 162/1000\n",
            " 1/29 [>.............................] - ETA: 0s - loss: 0.3726 - accuracy: 0.8672\n",
            "Epoch 162: saving model to model/keypoint_classifier\\keypoint_classifier.hdf5\n",
            "29/29 [==============================] - 0s 2ms/step - loss: 0.4549 - accuracy: 0.8343 - val_loss: 0.1748 - val_accuracy: 0.9641\n",
            "Epoch 163/1000\n",
            " 1/29 [>.............................] - ETA: 0s - loss: 0.4863 - accuracy: 0.8359\n",
            "Epoch 163: saving model to model/keypoint_classifier\\keypoint_classifier.hdf5\n",
            "29/29 [==============================] - 0s 2ms/step - loss: 0.4540 - accuracy: 0.8351 - val_loss: 0.1779 - val_accuracy: 0.9666\n",
            "Epoch 164/1000\n",
            " 1/29 [>.............................] - ETA: 0s - loss: 0.6030 - accuracy: 0.7891\n",
            "Epoch 164: saving model to model/keypoint_classifier\\keypoint_classifier.hdf5\n",
            "29/29 [==============================] - 0s 2ms/step - loss: 0.4463 - accuracy: 0.8337 - val_loss: 0.1817 - val_accuracy: 0.9607\n",
            "Epoch 165/1000\n",
            " 1/29 [>.............................] - ETA: 0s - loss: 0.3504 - accuracy: 0.8906\n",
            "Epoch 165: saving model to model/keypoint_classifier\\keypoint_classifier.hdf5\n",
            "29/29 [==============================] - 0s 2ms/step - loss: 0.4680 - accuracy: 0.8309 - val_loss: 0.1766 - val_accuracy: 0.9674\n",
            "Epoch 166/1000\n",
            " 1/29 [>.............................] - ETA: 0s - loss: 0.3682 - accuracy: 0.8672\n",
            "Epoch 166: saving model to model/keypoint_classifier\\keypoint_classifier.hdf5\n",
            "29/29 [==============================] - 0s 2ms/step - loss: 0.4432 - accuracy: 0.8312 - val_loss: 0.1762 - val_accuracy: 0.9632\n",
            "Epoch 167/1000\n",
            " 1/29 [>.............................] - ETA: 0s - loss: 0.3390 - accuracy: 0.8828\n",
            "Epoch 167: saving model to model/keypoint_classifier\\keypoint_classifier.hdf5\n",
            "29/29 [==============================] - 0s 2ms/step - loss: 0.4506 - accuracy: 0.8281 - val_loss: 0.1713 - val_accuracy: 0.9607\n",
            "Epoch 168/1000\n",
            " 1/29 [>.............................] - ETA: 0s - loss: 0.4024 - accuracy: 0.8750\n",
            "Epoch 168: saving model to model/keypoint_classifier\\keypoint_classifier.hdf5\n",
            "29/29 [==============================] - 0s 2ms/step - loss: 0.4744 - accuracy: 0.8189 - val_loss: 0.1738 - val_accuracy: 0.9632\n",
            "Epoch 169/1000\n",
            " 1/29 [>.............................] - ETA: 0s - loss: 0.4131 - accuracy: 0.8594\n",
            "Epoch 169: saving model to model/keypoint_classifier\\keypoint_classifier.hdf5\n",
            "29/29 [==============================] - 0s 2ms/step - loss: 0.4474 - accuracy: 0.8373 - val_loss: 0.1711 - val_accuracy: 0.9649\n",
            "Epoch 170/1000\n",
            " 1/29 [>.............................] - ETA: 0s - loss: 0.3726 - accuracy: 0.8594\n",
            "Epoch 170: saving model to model/keypoint_classifier\\keypoint_classifier.hdf5\n",
            "29/29 [==============================] - 0s 2ms/step - loss: 0.4438 - accuracy: 0.8301 - val_loss: 0.1685 - val_accuracy: 0.9666\n",
            "Epoch 171/1000\n",
            " 1/29 [>.............................] - ETA: 0s - loss: 0.4512 - accuracy: 0.8047\n",
            "Epoch 171: saving model to model/keypoint_classifier\\keypoint_classifier.hdf5\n",
            "29/29 [==============================] - 0s 2ms/step - loss: 0.4393 - accuracy: 0.8309 - val_loss: 0.1681 - val_accuracy: 0.9641\n",
            "Epoch 172/1000\n",
            " 1/29 [>.............................] - ETA: 0s - loss: 0.3556 - accuracy: 0.8359\n",
            "Epoch 172: saving model to model/keypoint_classifier\\keypoint_classifier.hdf5\n",
            "29/29 [==============================] - 0s 2ms/step - loss: 0.4465 - accuracy: 0.8315 - val_loss: 0.1658 - val_accuracy: 0.9657\n",
            "Epoch 173/1000\n",
            " 1/29 [>.............................] - ETA: 0s - loss: 0.4734 - accuracy: 0.8203\n",
            "Epoch 173: saving model to model/keypoint_classifier\\keypoint_classifier.hdf5\n",
            "29/29 [==============================] - 0s 2ms/step - loss: 0.4363 - accuracy: 0.8365 - val_loss: 0.1655 - val_accuracy: 0.9691\n",
            "Epoch 174/1000\n",
            " 1/29 [>.............................] - ETA: 0s - loss: 0.4091 - accuracy: 0.8438\n",
            "Epoch 174: saving model to model/keypoint_classifier\\keypoint_classifier.hdf5\n",
            "29/29 [==============================] - 0s 2ms/step - loss: 0.4460 - accuracy: 0.8331 - val_loss: 0.1710 - val_accuracy: 0.9674\n",
            "Epoch 175/1000\n",
            " 1/29 [>.............................] - ETA: 0s - loss: 0.4441 - accuracy: 0.8672\n",
            "Epoch 175: saving model to model/keypoint_classifier\\keypoint_classifier.hdf5\n",
            "29/29 [==============================] - 0s 2ms/step - loss: 0.4435 - accuracy: 0.8343 - val_loss: 0.1676 - val_accuracy: 0.9691\n",
            "Epoch 176/1000\n",
            " 1/29 [>.............................] - ETA: 0s - loss: 0.5024 - accuracy: 0.8281\n",
            "Epoch 176: saving model to model/keypoint_classifier\\keypoint_classifier.hdf5\n",
            "29/29 [==============================] - 0s 2ms/step - loss: 0.4537 - accuracy: 0.8337 - val_loss: 0.1696 - val_accuracy: 0.9699\n",
            "Epoch 177/1000\n",
            " 1/29 [>.............................] - ETA: 0s - loss: 0.5401 - accuracy: 0.7891\n",
            "Epoch 177: saving model to model/keypoint_classifier\\keypoint_classifier.hdf5\n",
            "29/29 [==============================] - 0s 2ms/step - loss: 0.4523 - accuracy: 0.8301 - val_loss: 0.1725 - val_accuracy: 0.9666\n",
            "Epoch 178/1000\n",
            " 1/29 [>.............................] - ETA: 0s - loss: 0.4431 - accuracy: 0.8359\n",
            "Epoch 178: saving model to model/keypoint_classifier\\keypoint_classifier.hdf5\n",
            "29/29 [==============================] - 0s 2ms/step - loss: 0.4507 - accuracy: 0.8287 - val_loss: 0.1733 - val_accuracy: 0.9666\n",
            "Epoch 179/1000\n",
            " 1/29 [>.............................] - ETA: 0s - loss: 0.4115 - accuracy: 0.8359\n",
            "Epoch 179: saving model to model/keypoint_classifier\\keypoint_classifier.hdf5\n",
            "29/29 [==============================] - 0s 2ms/step - loss: 0.4583 - accuracy: 0.8315 - val_loss: 0.1710 - val_accuracy: 0.9649\n",
            "Epoch 180/1000\n",
            " 1/29 [>.............................] - ETA: 0s - loss: 0.3506 - accuracy: 0.8594\n",
            "Epoch 180: saving model to model/keypoint_classifier\\keypoint_classifier.hdf5\n",
            "29/29 [==============================] - 0s 2ms/step - loss: 0.4534 - accuracy: 0.8240 - val_loss: 0.1684 - val_accuracy: 0.9699\n",
            "Epoch 181/1000\n",
            " 1/29 [>.............................] - ETA: 0s - loss: 0.4773 - accuracy: 0.8047\n",
            "Epoch 181: saving model to model/keypoint_classifier\\keypoint_classifier.hdf5\n",
            "29/29 [==============================] - 0s 2ms/step - loss: 0.4522 - accuracy: 0.8326 - val_loss: 0.1707 - val_accuracy: 0.9641\n",
            "Epoch 182/1000\n",
            " 1/29 [>.............................] - ETA: 0s - loss: 0.4151 - accuracy: 0.8516\n",
            "Epoch 182: saving model to model/keypoint_classifier\\keypoint_classifier.hdf5\n",
            "29/29 [==============================] - 0s 2ms/step - loss: 0.4600 - accuracy: 0.8245 - val_loss: 0.1761 - val_accuracy: 0.9691\n",
            "Epoch 183/1000\n",
            " 1/29 [>.............................] - ETA: 0s - loss: 0.4640 - accuracy: 0.8750\n",
            "Epoch 183: saving model to model/keypoint_classifier\\keypoint_classifier.hdf5\n",
            "29/29 [==============================] - 0s 2ms/step - loss: 0.4493 - accuracy: 0.8337 - val_loss: 0.1737 - val_accuracy: 0.9674\n",
            "Epoch 184/1000\n",
            " 1/29 [>.............................] - ETA: 0s - loss: 0.4850 - accuracy: 0.8047\n",
            "Epoch 184: saving model to model/keypoint_classifier\\keypoint_classifier.hdf5\n",
            "29/29 [==============================] - 0s 2ms/step - loss: 0.4436 - accuracy: 0.8384 - val_loss: 0.1655 - val_accuracy: 0.9699\n",
            "Epoch 185/1000\n",
            " 1/29 [>.............................] - ETA: 0s - loss: 0.4020 - accuracy: 0.8594\n",
            "Epoch 185: saving model to model/keypoint_classifier\\keypoint_classifier.hdf5\n",
            "29/29 [==============================] - 0s 2ms/step - loss: 0.4552 - accuracy: 0.8273 - val_loss: 0.1706 - val_accuracy: 0.9699\n",
            "Epoch 186/1000\n",
            " 1/29 [>.............................] - ETA: 0s - loss: 0.4581 - accuracy: 0.8516\n",
            "Epoch 186: saving model to model/keypoint_classifier\\keypoint_classifier.hdf5\n",
            "29/29 [==============================] - 0s 2ms/step - loss: 0.4515 - accuracy: 0.8309 - val_loss: 0.1692 - val_accuracy: 0.9666\n",
            "Epoch 187/1000\n",
            " 1/29 [>.............................] - ETA: 0s - loss: 0.4357 - accuracy: 0.8359\n",
            "Epoch 187: saving model to model/keypoint_classifier\\keypoint_classifier.hdf5\n",
            "29/29 [==============================] - 0s 2ms/step - loss: 0.4405 - accuracy: 0.8359 - val_loss: 0.1698 - val_accuracy: 0.9699\n",
            "Epoch 188/1000\n",
            " 1/29 [>.............................] - ETA: 0s - loss: 0.4912 - accuracy: 0.7969\n",
            "Epoch 188: saving model to model/keypoint_classifier\\keypoint_classifier.hdf5\n",
            "29/29 [==============================] - 0s 2ms/step - loss: 0.4660 - accuracy: 0.8323 - val_loss: 0.1710 - val_accuracy: 0.9699\n",
            "Epoch 189/1000\n",
            " 1/29 [>.............................] - ETA: 0s - loss: 0.4691 - accuracy: 0.8203\n",
            "Epoch 189: saving model to model/keypoint_classifier\\keypoint_classifier.hdf5\n",
            "29/29 [==============================] - 0s 2ms/step - loss: 0.4462 - accuracy: 0.8290 - val_loss: 0.1612 - val_accuracy: 0.9708\n",
            "Epoch 190/1000\n",
            " 1/29 [>.............................] - ETA: 0s - loss: 0.4879 - accuracy: 0.8359\n",
            "Epoch 190: saving model to model/keypoint_classifier\\keypoint_classifier.hdf5\n",
            "29/29 [==============================] - 0s 2ms/step - loss: 0.4525 - accuracy: 0.8306 - val_loss: 0.1731 - val_accuracy: 0.9683\n",
            "Epoch 191/1000\n",
            " 1/29 [>.............................] - ETA: 0s - loss: 0.5929 - accuracy: 0.7812\n",
            "Epoch 191: saving model to model/keypoint_classifier\\keypoint_classifier.hdf5\n",
            "29/29 [==============================] - 0s 2ms/step - loss: 0.4563 - accuracy: 0.8292 - val_loss: 0.1757 - val_accuracy: 0.9616\n",
            "Epoch 192/1000\n",
            " 1/29 [>.............................] - ETA: 0s - loss: 0.5045 - accuracy: 0.8047\n",
            "Epoch 192: saving model to model/keypoint_classifier\\keypoint_classifier.hdf5\n",
            "29/29 [==============================] - 0s 2ms/step - loss: 0.4574 - accuracy: 0.8337 - val_loss: 0.1699 - val_accuracy: 0.9691\n",
            "Epoch 193/1000\n",
            " 1/29 [>.............................] - ETA: 0s - loss: 0.4859 - accuracy: 0.8359\n",
            "Epoch 193: saving model to model/keypoint_classifier\\keypoint_classifier.hdf5\n",
            "29/29 [==============================] - 0s 2ms/step - loss: 0.4556 - accuracy: 0.8337 - val_loss: 0.1673 - val_accuracy: 0.9699\n",
            "Epoch 194/1000\n",
            " 1/29 [>.............................] - ETA: 0s - loss: 0.3856 - accuracy: 0.8594\n",
            "Epoch 194: saving model to model/keypoint_classifier\\keypoint_classifier.hdf5\n",
            "29/29 [==============================] - 0s 2ms/step - loss: 0.4244 - accuracy: 0.8343 - val_loss: 0.1630 - val_accuracy: 0.9691\n",
            "Epoch 195/1000\n",
            " 1/29 [>.............................] - ETA: 0s - loss: 0.4147 - accuracy: 0.8125\n",
            "Epoch 195: saving model to model/keypoint_classifier\\keypoint_classifier.hdf5\n",
            "29/29 [==============================] - 0s 2ms/step - loss: 0.4440 - accuracy: 0.8315 - val_loss: 0.1614 - val_accuracy: 0.9683\n",
            "Epoch 196/1000\n",
            " 1/29 [>.............................] - ETA: 0s - loss: 0.4376 - accuracy: 0.8594\n",
            "Epoch 196: saving model to model/keypoint_classifier\\keypoint_classifier.hdf5\n",
            "29/29 [==============================] - 0s 2ms/step - loss: 0.4526 - accuracy: 0.8270 - val_loss: 0.1674 - val_accuracy: 0.9674\n",
            "Epoch 197/1000\n",
            " 1/29 [>.............................] - ETA: 0s - loss: 0.5056 - accuracy: 0.8359\n",
            "Epoch 197: saving model to model/keypoint_classifier\\keypoint_classifier.hdf5\n",
            "29/29 [==============================] - 0s 2ms/step - loss: 0.4392 - accuracy: 0.8437 - val_loss: 0.1715 - val_accuracy: 0.9708\n",
            "Epoch 198/1000\n",
            " 1/29 [>.............................] - ETA: 0s - loss: 0.4957 - accuracy: 0.7891\n",
            "Epoch 198: saving model to model/keypoint_classifier\\keypoint_classifier.hdf5\n",
            "29/29 [==============================] - 0s 2ms/step - loss: 0.4348 - accuracy: 0.8401 - val_loss: 0.1676 - val_accuracy: 0.9708\n",
            "Epoch 199/1000\n",
            " 1/29 [>.............................] - ETA: 0s - loss: 0.4194 - accuracy: 0.8359\n",
            "Epoch 199: saving model to model/keypoint_classifier\\keypoint_classifier.hdf5\n",
            "29/29 [==============================] - 0s 2ms/step - loss: 0.4316 - accuracy: 0.8435 - val_loss: 0.1669 - val_accuracy: 0.9724\n",
            "Epoch 200/1000\n",
            " 1/29 [>.............................] - ETA: 0s - loss: 0.4292 - accuracy: 0.8047\n",
            "Epoch 200: saving model to model/keypoint_classifier\\keypoint_classifier.hdf5\n",
            "29/29 [==============================] - 0s 2ms/step - loss: 0.4486 - accuracy: 0.8357 - val_loss: 0.1681 - val_accuracy: 0.9657\n",
            "Epoch 201/1000\n",
            " 1/29 [>.............................] - ETA: 0s - loss: 0.3877 - accuracy: 0.8203\n",
            "Epoch 201: saving model to model/keypoint_classifier\\keypoint_classifier.hdf5\n",
            "29/29 [==============================] - 0s 2ms/step - loss: 0.4488 - accuracy: 0.8323 - val_loss: 0.1645 - val_accuracy: 0.9716\n",
            "Epoch 202/1000\n",
            " 1/29 [>.............................] - ETA: 0s - loss: 0.4295 - accuracy: 0.8516\n",
            "Epoch 202: saving model to model/keypoint_classifier\\keypoint_classifier.hdf5\n",
            "29/29 [==============================] - 0s 2ms/step - loss: 0.4530 - accuracy: 0.8295 - val_loss: 0.1663 - val_accuracy: 0.9708\n",
            "Epoch 203/1000\n",
            " 1/29 [>.............................] - ETA: 0s - loss: 0.3578 - accuracy: 0.8828\n",
            "Epoch 203: saving model to model/keypoint_classifier\\keypoint_classifier.hdf5\n",
            "29/29 [==============================] - 0s 2ms/step - loss: 0.4429 - accuracy: 0.8368 - val_loss: 0.1646 - val_accuracy: 0.9674\n",
            "Epoch 204/1000\n",
            " 1/29 [>.............................] - ETA: 0s - loss: 0.4686 - accuracy: 0.8203\n",
            "Epoch 204: saving model to model/keypoint_classifier\\keypoint_classifier.hdf5\n",
            "29/29 [==============================] - 0s 2ms/step - loss: 0.4666 - accuracy: 0.8265 - val_loss: 0.1680 - val_accuracy: 0.9657\n",
            "Epoch 205/1000\n",
            " 1/29 [>.............................] - ETA: 0s - loss: 0.4196 - accuracy: 0.8438\n",
            "Epoch 205: saving model to model/keypoint_classifier\\keypoint_classifier.hdf5\n",
            "29/29 [==============================] - 0s 2ms/step - loss: 0.4501 - accuracy: 0.8228 - val_loss: 0.1723 - val_accuracy: 0.9657\n",
            "Epoch 206/1000\n",
            " 1/29 [>.............................] - ETA: 0s - loss: 0.4489 - accuracy: 0.8672\n",
            "Epoch 206: saving model to model/keypoint_classifier\\keypoint_classifier.hdf5\n",
            "29/29 [==============================] - 0s 2ms/step - loss: 0.4396 - accuracy: 0.8382 - val_loss: 0.1708 - val_accuracy: 0.9674\n",
            "Epoch 207/1000\n",
            " 1/29 [>.............................] - ETA: 0s - loss: 0.4438 - accuracy: 0.8281\n",
            "Epoch 207: saving model to model/keypoint_classifier\\keypoint_classifier.hdf5\n",
            "29/29 [==============================] - 0s 2ms/step - loss: 0.4556 - accuracy: 0.8337 - val_loss: 0.1791 - val_accuracy: 0.9624\n",
            "Epoch 208/1000\n",
            " 1/29 [>.............................] - ETA: 0s - loss: 0.4250 - accuracy: 0.8594\n",
            "Epoch 208: saving model to model/keypoint_classifier\\keypoint_classifier.hdf5\n",
            "29/29 [==============================] - 0s 2ms/step - loss: 0.4271 - accuracy: 0.8448 - val_loss: 0.1719 - val_accuracy: 0.9674\n",
            "Epoch 209/1000\n",
            " 1/29 [>.............................] - ETA: 0s - loss: 0.3760 - accuracy: 0.8750\n",
            "Epoch 209: saving model to model/keypoint_classifier\\keypoint_classifier.hdf5\n",
            "29/29 [==============================] - 0s 2ms/step - loss: 0.4331 - accuracy: 0.8415 - val_loss: 0.1659 - val_accuracy: 0.9691\n",
            "Epoch 209: early stopping\n"
          ]
        },
        {
          "data": {
            "text/plain": [
              "<keras.src.callbacks.History at 0x1c6528feeb0>"
            ]
          },
          "execution_count": 34,
          "metadata": {},
          "output_type": "execute_result"
        }
      ],
      "source": [
        "model.fit(\n",
        "    X_train,\n",
        "    y_train,\n",
        "    epochs=1000,\n",
        "    batch_size=128,\n",
        "    validation_data=(X_test, y_test),\n",
        "    callbacks=[cp_callback, es_callback]\n",
        ")"
      ]
    },
    {
      "cell_type": "code",
      "execution_count": 35,
      "metadata": {
        "colab": {
          "base_uri": "https://localhost:8080/"
        },
        "id": "pxvb2Y299hE3",
        "outputId": "59eb3185-2e37-4b9e-bc9d-ab1b8ac29b7f"
      },
      "outputs": [
        {
          "name": "stdout",
          "output_type": "stream",
          "text": [
            "10/10 [==============================] - 0s 704us/step - loss: 0.1659 - accuracy: 0.9691\n"
          ]
        }
      ],
      "source": [
        "# Model evaluation\n",
        "val_loss, val_acc = model.evaluate(X_test, y_test, batch_size=128)"
      ]
    },
    {
      "cell_type": "code",
      "execution_count": 36,
      "metadata": {
        "id": "RBkmDeUW9hE4"
      },
      "outputs": [],
      "source": [
        "# Loading the saved model\n",
        "model = tf.keras.models.load_model(model_save_path)"
      ]
    },
    {
      "cell_type": "code",
      "execution_count": 37,
      "metadata": {
        "colab": {
          "base_uri": "https://localhost:8080/"
        },
        "id": "tFz9Tb0I9hE4",
        "outputId": "1c3b3528-54ae-4ee2-ab04-77429211cbef"
      },
      "outputs": [
        {
          "name": "stdout",
          "output_type": "stream",
          "text": [
            "1/1 [==============================] - 0s 24ms/step\n",
            "[9.6891552e-01 3.1030608e-02 4.3948108e-05 9.9881772e-06]\n",
            "0\n"
          ]
        }
      ],
      "source": [
        "# Inference test\n",
        "predict_result = model.predict(np.array([X_test[0]]))\n",
        "print(np.squeeze(predict_result))\n",
        "print(np.argmax(np.squeeze(predict_result)))"
      ]
    },
    {
      "cell_type": "markdown",
      "metadata": {
        "id": "S3U4yNWx9hE4"
      },
      "source": [
        "# Confusion matrix"
      ]
    },
    {
      "cell_type": "code",
      "execution_count": 38,
      "metadata": {
        "colab": {
          "base_uri": "https://localhost:8080/",
          "height": 582
        },
        "id": "AP1V6SCk9hE5",
        "outputId": "08e41a80-7a4a-4619-8125-ecc371368d19"
      },
      "outputs": [
        {
          "name": "stdout",
          "output_type": "stream",
          "text": [
            "38/38 [==============================] - 0s 421us/step\n"
          ]
        },
        {
          "data": {
            "image/png": "[encoded data removed]",
            "text/plain": [
              "<Figure size 700x600 with 2 Axes>"
            ]
          },
          "metadata": {},
          "output_type": "display_data"
        },
        {
          "name": "stdout",
          "output_type": "stream",
          "text": [
            "Classification Report\n",
            "              precision    recall  f1-score   support\n",
            "\n",
            "           0       0.98      0.98      0.98       402\n",
            "           1       0.98      0.94      0.96       366\n",
            "           2       0.95      0.98      0.96       343\n",
            "           3       0.98      0.99      0.98        86\n",
            "\n",
            "    accuracy                           0.97      1197\n",
            "   macro avg       0.97      0.97      0.97      1197\n",
            "weighted avg       0.97      0.97      0.97      1197\n",
            "\n"
          ]
        }
      ],
      "source": [
        "import pandas as pd\n",
        "import seaborn as sns\n",
        "import matplotlib.pyplot as plt\n",
        "from sklearn.metrics import confusion_matrix, classification_report\n",
        "\n",
        "def print_confusion_matrix(y_true, y_pred, report=True):\n",
        "    labels = sorted(list(set(y_true)))\n",
        "    cmx_data = confusion_matrix(y_true, y_pred, labels=labels)\n",
        "    \n",
        "    df_cmx = pd.DataFrame(cmx_data, index=labels, columns=labels)\n",
        " \n",
        "    fig, ax = plt.subplots(figsize=(7, 6))\n",
        "    sns.heatmap(df_cmx, annot=True, fmt='g' ,square=False)\n",
        "    ax.set_ylim(len(set(y_true)), 0)\n",
        "    plt.show()\n",
        "    \n",
        "    if report:\n",
        "        print('Classification Report')\n",
        "        print(classification_report(y_test, y_pred))\n",
        "\n",
        "Y_pred = model.predict(X_test)\n",
        "y_pred = np.argmax(Y_pred, axis=1)\n",
        "\n",
        "print_confusion_matrix(y_test, y_pred)"
      ]
    },
    {
      "cell_type": "markdown",
      "metadata": {
        "id": "FNP6aqzc9hE5"
      },
      "source": [
        "# Convert to model for Tensorflow-Lite"
      ]
    },
    {
      "cell_type": "code",
      "execution_count": 39,
      "metadata": {
        "id": "ODjnYyld9hE6"
      },
      "outputs": [
        {
          "name": "stderr",
          "output_type": "stream",
          "text": [
            "c:\\Users\\skevaki\\AppData\\Local\\anaconda3\\envs\\phd\\lib\\site-packages\\keras\\src\\engine\\training.py:3000: UserWarning: You are saving your model as an HDF5 file via `model.save()`. This file format is considered legacy. We recommend using instead the native Keras format, e.g. `model.save('my_model.keras')`.\n",
            "  saving_api.save_model(\n"
          ]
        }
      ],
      "source": [
        "# Save as a model dedicated to inference\n",
        "model.save(model_save_path, include_optimizer=False)"
      ]
    },
    {
      "cell_type": "code",
      "execution_count": 40,
      "metadata": {
        "colab": {
          "base_uri": "https://localhost:8080/"
        },
        "id": "zRfuK8Y59hE6",
        "outputId": "a4ca585c-b5d5-4244-8291-8674063209bb"
      },
      "outputs": [
        {
          "name": "stdout",
          "output_type": "stream",
          "text": [
            "INFO:tensorflow:Assets written to: C:\\Users\\skevaki\\AppData\\Local\\Temp\\tmpkp3khlgp\\assets\n"
          ]
        },
        {
          "name": "stderr",
          "output_type": "stream",
          "text": [
            "INFO:tensorflow:Assets written to: C:\\Users\\skevaki\\AppData\\Local\\Temp\\tmpkp3khlgp\\assets\n"
          ]
        },
        {
          "data": {
            "text/plain": [
              "6572"
            ]
          },
          "execution_count": 40,
          "metadata": {},
          "output_type": "execute_result"
        }
      ],
      "source": [
        "# Transform model (quantization)\n",
        "\n",
        "converter = tf.lite.TFLiteConverter.from_keras_model(model)\n",
        "converter.optimizations = [tf.lite.Optimize.DEFAULT]\n",
        "tflite_quantized_model = converter.convert()\n",
        "\n",
        "open(tflite_save_path, 'wb').write(tflite_quantized_model)"
      ]
    },
    {
      "cell_type": "markdown",
      "metadata": {
        "id": "CHBPBXdx9hE6"
      },
      "source": [
        "# Inference test"
      ]
    },
    {
      "cell_type": "code",
      "execution_count": 41,
      "metadata": {
        "id": "mGAzLocO9hE7"
      },
      "outputs": [],
      "source": [
        "interpreter = tf.lite.Interpreter(model_path=tflite_save_path)\n",
        "interpreter.allocate_tensors()"
      ]
    },
    {
      "cell_type": "code",
      "execution_count": 42,
      "metadata": {
        "id": "oQuDK8YS9hE7"
      },
      "outputs": [],
      "source": [
        "# Get I / O tensor\n",
        "input_details = interpreter.get_input_details()\n",
        "output_details = interpreter.get_output_details()"
      ]
    },
    {
      "cell_type": "code",
      "execution_count": 43,
      "metadata": {
        "id": "2_ixAf_l9hE7"
      },
      "outputs": [],
      "source": [
        "interpreter.set_tensor(input_details[0]['index'], np.array([X_test[0]]))"
      ]
    },
    {
      "cell_type": "code",
      "execution_count": 44,
      "metadata": {
        "colab": {
          "base_uri": "https://localhost:8080/"
        },
        "id": "s4FoAnuc9hE7",
        "outputId": "91f18257-8d8b-4ef3-c558-e9b5f94fabbf",
        "scrolled": true
      },
      "outputs": [
        {
          "name": "stdout",
          "output_type": "stream",
          "text": [
            "CPU times: total: 0 ns\n",
            "Wall time: 0 ns\n"
          ]
        }
      ],
      "source": [
        "%%time\n",
        "# Inference implementation\n",
        "interpreter.invoke()\n",
        "tflite_results = interpreter.get_tensor(output_details[0]['index'])"
      ]
    },
    {
      "cell_type": "code",
      "execution_count": 45,
      "metadata": {
        "colab": {
          "base_uri": "https://localhost:8080/"
        },
        "id": "vONjp19J9hE8",
        "outputId": "77205e24-fd00-42c4-f7b6-e06e527c2cba"
      },
      "outputs": [],
      "source": [
        "#print(np.squeeze(tflite_results))\n",
        "#print(np.argmax(np.squeeze(tflite_results)))"
      ]
    }
  ],
  "metadata": {
    "accelerator": "GPU",
    "colab": {
      "collapsed_sections": [],
      "name": "keypoint_classification_EN.ipynb",
      "provenance": [],
      "toc_visible": true
    },
    "kernelspec": {
      "display_name": "Python 3",
      "language": "python",
      "name": "python3"
    },
    "language_info": {
      "codemirror_mode": {
        "name": "ipython",
        "version": 3
      },
      "file_extension": ".py",
      "mimetype": "text/x-python",
      "name": "python",
      "nbconvert_exporter": "python",
      "pygments_lexer": "ipython3",
      "version": "3.8.17"
    }
  },
  "nbformat": 4,
  "nbformat_minor": 0
}
